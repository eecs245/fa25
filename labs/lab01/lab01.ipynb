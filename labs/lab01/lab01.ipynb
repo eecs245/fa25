{
 "cells": [
  {
   "cell_type": "markdown",
   "id": "d4478b8d",
   "metadata": {},
   "source": [
    "<div class=\"alert alert-success\">\n",
    "\n",
    "#### Lab 1\n",
    "    \n",
    "# Python Basics and Math Review\n",
    "\n",
    "### EECS 245, Fall 2025 at the University of Michigan\n",
    "    \n",
    "</div>\n",
    "\n",
    "### Instructions\n",
    "\n",
    "Most labs will have Jupyter Notebooks, like this one, designed to supplement the in-person worksheet. \n",
    "\n",
    "To write and run code in this notebook, you have two options:\n",
    "\n",
    "1. **Use the EECS 245 DataHub.** To do this, click the \"code\" link under Lab 1 on the course website. Log in with your uniqname and set a password.\n",
    "1. **Set up a Jupyter Notebook environment locally, and use `git` to clone our course repository.** For instructions on how to do this, see the [**Tech Support**](https://eecs245.org/tech-support) page of the course website.\n",
    "\n",
    "To receive credit for the lab, you'll need to submit your notebook with all 5 tasks completed to Gradescope and show your TA that all test cases have passed before the end of the lab session. Instructions on how to do this are at the bottom of the notebook."
   ]
  },
  {
   "cell_type": "markdown",
   "id": "2f98a339",
   "metadata": {},
   "source": [
    "## Overview: Jupyter Notebooks\n",
    "\n",
    "---\n",
    "\n",
    "### What is a Jupyter Notebook?\n",
    "\n",
    "In the past, you may have been used to writing code in one window and running it in another (e.g. a Terminal).\n",
    "\n",
    "<center><img src=\"imgs/text-editor-terminal.png\" width=600></center>\n",
    "\n",
    "**Jupyter Notebooks** allow us to write and run code within a single document. They also allow us to embed text and images and look at visualizations, which are useful in machine learning and data science workflows. (Jupyter stands for **Ju**lia, **Py**thon, and **R**, the three original languages they were designed to support.)\n",
    "\n",
    "`.ipynb` is the extension for Jupyter Notebook files. `.ipynb` files can be opened and run in a few related applications, including JupyterLab, Jupyter Notebook, Jupyter Notebook Classic, and VSCode. If you're using the EECS 245 DataHub, the \"code\" link will open the standard Jupyter Notebook environment; if you're setting things up locally, the Tech Support page provides details on how to launch each of these interfaces."
   ]
  },
  {
   "cell_type": "markdown",
   "id": "5e467230",
   "metadata": {
    "slideshow": {
     "slide_type": "slide"
    }
   },
   "source": [
    "### Cells\n",
    "\n",
    "The **cell** is the basic building block of a Jupyter Notebook. There are two main types of cells.\n",
    "- **Code cells** allow you to write and execute code. When run, code cells display the value of the last evaluated expression.\n",
    "- **Markdown cells** allow you to write text and images that aren't Python code.\n",
    "    - Markdown cells are always \"run\", except when you're editing them. \n",
    "    - Double-click this cell and see what happens!\n",
    "    - Read more about Markdown [here](https://www.markdownguide.org/cheat-sheet/).\n",
    "    \n",
    "<center><img src='imgs/mdcell.png' width=90%>A code cell and Markdown cell, before and after being \"run\".</center>"
   ]
  },
  {
   "cell_type": "markdown",
   "id": "230f45a0",
   "metadata": {
    "slideshow": {
     "slide_type": "slide"
    }
   },
   "source": [
    "### Using Python as a Calculator\n",
    "\n",
    "To familarize ourselves with the notebook environment, let's run a few code cells involving arithmetic expressions. \n",
    "\n",
    "To run a code cell, **hit `shift` + `enter` (or `shift` + `return`) on your keyboard**. You could also hit the \"▶️ Run\" button in the toolbar at the top, but that is much, much slower, so don't get in the habit of doing that."
   ]
  },
  {
   "cell_type": "code",
   "execution_count": null,
   "id": "a8e2f312",
   "metadata": {},
   "outputs": [],
   "source": [
    "# When you run this cell, the value of the expression appears, but isn't saved anywhere!\n",
    "# These are comments, by the way.\n",
    "17 ** 2"
   ]
  },
  {
   "cell_type": "code",
   "execution_count": null,
   "id": "11630585",
   "metadata": {},
   "outputs": [],
   "source": [
    "# Integer division.\n",
    "25 // 4"
   ]
  },
  {
   "cell_type": "code",
   "execution_count": null,
   "id": "b047c915",
   "metadata": {
    "scrolled": true
   },
   "outputs": [],
   "source": [
    "min(-5.7, 1, 3) + max(4, 9, 7)"
   ]
  },
  {
   "cell_type": "code",
   "execution_count": null,
   "id": "16c26e2c",
   "metadata": {},
   "outputs": [],
   "source": [
    "# Why do we only see one line of output?\n",
    "2 - 4\n",
    "18 + 15.0"
   ]
  },
  {
   "cell_type": "code",
   "execution_count": null,
   "id": "bb72c811",
   "metadata": {},
   "outputs": [],
   "source": [
    "# Strings can be created using single, double, or triple quotes.\n",
    "# There's no difference between a string and a char.\n",
    "'678' + \"9\" * 3"
   ]
  },
  {
   "cell_type": "code",
   "execution_count": null,
   "id": "d30d89a5",
   "metadata": {},
   "outputs": [],
   "source": [
    "'''November 26,\n",
    "''' + \"1998\""
   ]
  },
  {
   "cell_type": "code",
   "execution_count": null,
   "id": "c42d81bb",
   "metadata": {},
   "outputs": [],
   "source": [
    "# Put ? after the name of a function to see its documentation inline.\n",
    "# All notebook interfaces support tab for autocompletion, too.\n",
    "round?"
   ]
  },
  {
   "cell_type": "markdown",
   "id": "616265b6",
   "metadata": {
    "slideshow": {
     "slide_type": "slide"
    }
   },
   "source": [
    "## Variables and the Kernel\n",
    "\n",
    "---\n",
    "\n",
    "If you don't have any experience with Python, don't fret – we'll cover some of the basic features of the language here, and some additional features in the code component of Homework 1.\n",
    "\n",
    "If you have used Python before, you might want to skip to the next section, where we introduce how [the autograder](#the-autograder) works.\n",
    "\n",
    "### Python vs. C++ Variables\n",
    "\n",
    "First, if you're familiar with C++ but not Python, here's a table summarizing some of their key differences.\n",
    "\n",
    "| | Python | C++ |\n",
    "| --- | --- | --- |\n",
    "| Do I need to define<br>the type of a variable<br>beforehand? | <span style=\"color:orange\"><b>No</b></span> <br>Python is dynamically typed. | <span style=\"color:blue\"><b>Yes</b></span><br>C++ is statically typed. |\n",
    "| Do I compile<br>my code before running it? | <span style=\"color:orange\"><b>No</b></span><br>Python is interpreted;<br>Python code is converted to<br>bytecode line-by-line<br> at runtime.<br><small><br>In fact, the standard implementation<br> of Python is written in C (called CPython).</small> | <span style=\"color:blue\"><b>Yes</b></span><br>The entirety of a<br> C++ program needs to be<br> compiled to bytecode<br> before it's run.<br><br><small>This is part of why C++ is <br>much <b>faster</b> than Python.</small> |"
   ]
  },
  {
   "cell_type": "code",
   "execution_count": null,
   "id": "7ecc0dfe",
   "metadata": {},
   "outputs": [],
   "source": [
    "# In C++, we'd need to define the type of count in advance, and it wouldn't be allowed to change.\n",
    "# This works fine!\n",
    "count = 7 + 9\n",
    "count = \"machine learning\"\n",
    "count"
   ]
  },
  {
   "cell_type": "code",
   "execution_count": null,
   "id": "2ac15c85",
   "metadata": {},
   "outputs": [],
   "source": [
    "type(count) # The type function returns the type of an object."
   ]
  },
  {
   "cell_type": "code",
   "execution_count": null,
   "id": "4bf90e98",
   "metadata": {},
   "outputs": [],
   "source": [
    "# Type hints exist, but aren't enforced by default.\n",
    "name: str = 'Junior'\n",
    "name = 3.14"
   ]
  },
  {
   "cell_type": "markdown",
   "id": "1df718f5",
   "metadata": {
    "slideshow": {
     "slide_type": "slide"
    }
   },
   "source": [
    "### Notebook Memory Model\n",
    "\n",
    "Python may be new to you, but in addition, code in a Jupyter Notebook behaves a little differently than code in a text editor + Terminal setup.\n",
    "\n",
    "We like to pretend your notebook has a brain 🧠. Everytime you run a cell with an assignment statement, it remembers that name-value binding. It will remember all name-value bindings as long as the current session is open, no matter how many cells you create or delete."
   ]
  },
  {
   "cell_type": "code",
   "execution_count": null,
   "id": "36ef1efb",
   "metadata": {},
   "outputs": [],
   "source": [
    "# We defined this a few cells ago, but it still remembers the binding.\n",
    "# This is a common pattern: writing the name of a variable in a cell of its own\n",
    "# to check its value.\n",
    "count"
   ]
  },
  {
   "cell_type": "markdown",
   "id": "a4dffbcd",
   "metadata": {
    "slideshow": {
     "slide_type": "fragment"
    }
   },
   "source": [
    "But, quitting your Terminal – or being inactive on DataHub for a few hours – ends your Jupyter Notebook session, and your notebook will forget everything it knows – **you’ll need to re-run all of your cells** the next time you open it.\n",
    "\n",
    "With this in mind, you should aim to structure your code in a **reproducible** manner – so that others can trace your steps. Let's look at some practices you **should avoid ❌**. (By others, we mostly mean you, when you come back to work on your homework the next day.)"
   ]
  },
  {
   "cell_type": "markdown",
   "id": "70af85f1",
   "metadata": {
    "slideshow": {
     "slide_type": "slide"
    }
   },
   "source": [
    "1. **Don't** delete cells that contain assignment statements."
   ]
  },
  {
   "cell_type": "code",
   "execution_count": null,
   "id": "094ca894",
   "metadata": {},
   "outputs": [],
   "source": [
    "# To illustrate the issue, run this cell and then delete it.\n",
    "age = 26"
   ]
  },
  {
   "cell_type": "code",
   "execution_count": null,
   "id": "cb7bb87b",
   "metadata": {},
   "outputs": [],
   "source": [
    "# If the above cell has been run, this cell will run just fine, even if you \n",
    "# delete the cell above. However, once your notebook \"forgets\" all of \n",
    "# the variables it knows about, this cell will error, \n",
    "# since `age` won't be defined anywhere!\n",
    "age + 15"
   ]
  },
  {
   "cell_type": "markdown",
   "id": "e77b3bca",
   "metadata": {
    "slideshow": {
     "slide_type": "slide"
    }
   },
   "source": [
    "2. **Don't** use a variable in a cell **above** where it is defined."
   ]
  },
  {
   "cell_type": "code",
   "execution_count": null,
   "id": "a1214c38",
   "metadata": {},
   "outputs": [],
   "source": [
    "# If you run the cell below first, then this cell will run just fine.\n",
    "# However, once your notebook \"forgets\" all of the variables\n",
    "# it knows about, and you run all of its cells in order,\n",
    "# this will cause an error, because you are trying to use\n",
    "# `weather` before its defined!\n",
    "weather - 4"
   ]
  },
  {
   "cell_type": "code",
   "execution_count": null,
   "id": "0c7b317e",
   "metadata": {},
   "outputs": [],
   "source": [
    "# To illustrate the issue, run this cell FIRST, then the cell above.\n",
    "weather = 72"
   ]
  },
  {
   "cell_type": "markdown",
   "id": "032e9dab",
   "metadata": {
    "slideshow": {
     "slide_type": "slide"
    }
   },
   "source": [
    "3. **Don't** overwrite built-in names!"
   ]
  },
  {
   "cell_type": "code",
   "execution_count": null,
   "id": "f6a657db",
   "metadata": {},
   "outputs": [],
   "source": [
    "min(2, 3)"
   ]
  },
  {
   "cell_type": "code",
   "execution_count": null,
   "id": "29cf82f6",
   "metadata": {},
   "outputs": [],
   "source": [
    "min = 17"
   ]
  },
  {
   "cell_type": "code",
   "execution_count": null,
   "id": "bc85dc2d",
   "metadata": {},
   "outputs": [],
   "source": [
    "min(2, 3)"
   ]
  },
  {
   "cell_type": "markdown",
   "id": "4a5edaaa",
   "metadata": {
    "slideshow": {
     "slide_type": "slide"
    }
   },
   "source": [
    "### Restarting the Kernel\n",
    "\n",
    "If something doesn't seem right, you can **force** your notebook to forget everything it currently is remembering and give it a \"fresh start\".\n",
    "\n",
    "To do so, first, save your notebook (by clicking the floppy disk icon or `CTRL/CMD + S`).\n",
    "\n",
    "Then, **restart your kernel** by going to \"Kernel\" in the toolbar and clicking one of the options involving \"Restart\". Our preference is \"Restart Kernel and Clear Outputs of All Cells\" (or the equivalent in your UI), so that none of the previous cell outputs are visible. The kernel is like the engine of your notebook."
   ]
  },
  {
   "cell_type": "markdown",
   "id": "4f278145",
   "metadata": {},
   "source": [
    "### Tip: Adding Cells\n",
    "\n",
    "Often, to experiment, you'll want to create cells above or below the current one you're working in. The \"+\" button in the toolbar can help with this.\n",
    "\n",
    "There are also keyboard shortcuts – first, hit `Escape` on your keyboard (to enter \"Command Mode\"), then hit the `A` key on your keyboard to add a cell above, or `B` to add a cell below. `DD` deletes a cell."
   ]
  },
  {
   "cell_type": "markdown",
   "id": "da74c7eb",
   "metadata": {},
   "source": [
    "## The Autograder\n",
    "\n",
    "---\n",
    "\n",
    "Like you may have seen in other programming classes, your code in this class will be autograded – that is, automatically graded by the computer. The Python module we'll be using for autograding is called Otter Grader.\n",
    "\n",
    "Run the cell below to import otter and initialize it for this notebook. In most homeworks, this cell will be the very first cell in your notebook."
   ]
  },
  {
   "cell_type": "code",
   "execution_count": null,
   "id": "3a5431d4",
   "metadata": {},
   "outputs": [],
   "source": [
    "import otter\n",
    "grader = otter.Notebook('lab01.ipynb')"
   ]
  },
  {
   "cell_type": "markdown",
   "id": "022d1463",
   "metadata": {},
   "source": [
    "Let's work through an example task to get a feel for how it works."
   ]
  },
  {
   "cell_type": "markdown",
   "id": "afca376e",
   "metadata": {},
   "source": [
    "<div class=\"alert alert-info\" markdown=\"1\">\n",
    "\n",
    "### Task 1: Seconds in an Hour\n",
    "\n",
    "</div>\n",
    "    \n",
    "Below, you should see a question, a place to write your answer, and another cell containing `grader.check('task01')`. Running this last cell will check your answer to the question. If it's wrong, you'll see an error message. Try putting in a really small number, like 15, just to see what happens.\n",
    "\n",
    "Assign `seconds_in_an_hour` to the number of seconds in an hour."
   ]
  },
  {
   "cell_type": "code",
   "execution_count": null,
   "id": "55001f61",
   "metadata": {
    "tags": []
   },
   "outputs": [],
   "source": [
    "seconds_in_an_hour = ...\n",
    "seconds_in_an_hour"
   ]
  },
  {
   "cell_type": "code",
   "execution_count": null,
   "id": "6b6f135a",
   "metadata": {
    "deletable": false,
    "editable": false
   },
   "outputs": [],
   "source": [
    "grader.check(\"task01\")"
   ]
  },
  {
   "cell_type": "markdown",
   "id": "8eff07b4",
   "metadata": {},
   "source": [
    "**In labs**, the tests you have access to in your notebook are always the exact same as the ones that we will run against your work on Gradescope.\n",
    "\n",
    "**In homeworks**, this is not the case – homeworks have hidden test cases. In homeworks, the tests that you \n",
    "have access to in your notebook only verify that your answer is of the right data type and on the right track."
   ]
  },
  {
   "cell_type": "markdown",
   "id": "86d7960b",
   "metadata": {
    "slideshow": {
     "slide_type": "slide"
    }
   },
   "source": [
    "## Lists and Strings\n",
    "\n",
    "---\n",
    "\n",
    "Python has a variety of built-in data structures, including lists, dictionaries, sets, and tuples.\n",
    "\n",
    "In this class, we'll most often use lists and dictionaries, along with more machine learning-specific data structures, like the `numpy` array, which we'll learn about next week.\n",
    "\n",
    "A list is an **ordered** collection of values. To create a new list from scratch, we use [square brackets]."
   ]
  },
  {
   "cell_type": "code",
   "execution_count": null,
   "id": "3df82d8f",
   "metadata": {},
   "outputs": [],
   "source": [
    "mixed_list = [-2, 2.5, 'michigan', [1, 3], max] # Different types!\n",
    "mixed_list"
   ]
  },
  {
   "cell_type": "markdown",
   "id": "bf61793a",
   "metadata": {
    "slideshow": {
     "slide_type": "fragment"
    }
   },
   "source": [
    "There are a variety of built-in functions that work with lists."
   ]
  },
  {
   "cell_type": "code",
   "execution_count": null,
   "id": "918a96aa",
   "metadata": {},
   "outputs": [],
   "source": [
    "max(['hey', 'hi', 'hello'])"
   ]
  },
  {
   "cell_type": "markdown",
   "id": "8029f1b5",
   "metadata": {
    "slideshow": {
     "slide_type": "fragment"
    }
   },
   "source": [
    "The `append` **method** to add elements to the end of a list.\n",
    "\n",
    "Since this is a method, we call it using \"dot\" notation, i.e. `groceries.append(...)` instead of `append(groceries, ...)`."
   ]
  },
  {
   "cell_type": "code",
   "execution_count": null,
   "id": "5a08436f",
   "metadata": {},
   "outputs": [],
   "source": [
    "groceries = ['eggs', 'milk']\n",
    "groceries"
   ]
  },
  {
   "cell_type": "code",
   "execution_count": null,
   "id": "fe6e70a5",
   "metadata": {},
   "outputs": [],
   "source": [
    "groceries.append('bread')"
   ]
  },
  {
   "cell_type": "code",
   "execution_count": null,
   "id": "371994fc",
   "metadata": {},
   "outputs": [],
   "source": [
    "groceries"
   ]
  },
  {
   "cell_type": "markdown",
   "id": "313ccb3e",
   "metadata": {
    "slideshow": {
     "slide_type": "fragment"
    }
   },
   "source": [
    "**Important**: Note that `groceries.append('bread')` didn’t return anything, but groceries was modified.\n",
    "\n",
    "We say `append` is **destructive**, because it does something other than return an output. We try to avoid destructive operations when possible."
   ]
  },
  {
   "cell_type": "code",
   "execution_count": null,
   "id": "e0384e73",
   "metadata": {},
   "outputs": [],
   "source": [
    "groceries + ['yogurt'] # This is a new list, not a modification of groceries!"
   ]
  },
  {
   "cell_type": "markdown",
   "id": "9ae6c3bf",
   "metadata": {
    "slideshow": {
     "slide_type": "fragment"
    }
   },
   "source": [
    "Python, like most programming languages, is 0-indexed. This means that the **index**, or position, of the first element in a list is 0, not 1.<br><small>One reason: an element's index represents how far it is from the start of the list.</small>"
   ]
  },
  {
   "cell_type": "code",
   "execution_count": null,
   "id": "f5209df2",
   "metadata": {},
   "outputs": [],
   "source": [
    "nums = [3, 1, 'dog', -9.5, 'michigan']"
   ]
  },
  {
   "cell_type": "code",
   "execution_count": null,
   "id": "46849bcf",
   "metadata": {},
   "outputs": [],
   "source": [
    "nums[0]"
   ]
  },
  {
   "cell_type": "code",
   "execution_count": null,
   "id": "b5c19631",
   "metadata": {},
   "outputs": [],
   "source": [
    "nums[3]"
   ]
  },
  {
   "cell_type": "code",
   "execution_count": null,
   "id": "72a7039f",
   "metadata": {},
   "outputs": [],
   "source": [
    "nums[-1] # Counts from the end."
   ]
  },
  {
   "cell_type": "code",
   "execution_count": null,
   "id": "cb223c7e",
   "metadata": {},
   "outputs": [],
   "source": [
    "nums[5]"
   ]
  },
  {
   "cell_type": "markdown",
   "id": "042667b8",
   "metadata": {
    "slideshow": {
     "slide_type": "fragment"
    }
   },
   "source": [
    "We can use indexes to create a \"slice\" of a list. A slice is a new list containing elements from another list."
   ]
  },
  {
   "cell_type": "code",
   "execution_count": null,
   "id": "f22686f6",
   "metadata": {},
   "outputs": [],
   "source": [
    "nums"
   ]
  },
  {
   "cell_type": "code",
   "execution_count": null,
   "id": "c27fcd86",
   "metadata": {},
   "outputs": [],
   "source": [
    "nums[1:3]"
   ]
  },
  {
   "cell_type": "markdown",
   "id": "a5c4580f",
   "metadata": {
    "slideshow": {
     "slide_type": "fragment"
    }
   },
   "source": [
    "In general,\n",
    "\n",
    "```python\n",
    "list_name[start : stop]\n",
    "```\n",
    "\n",
    "consists of all elements in list_name starting with index `start` and ending right before index `stop`."
   ]
  },
  {
   "cell_type": "code",
   "execution_count": null,
   "id": "6f211e08",
   "metadata": {},
   "outputs": [],
   "source": [
    "nums"
   ]
  },
  {
   "cell_type": "code",
   "execution_count": null,
   "id": "182858d5",
   "metadata": {},
   "outputs": [],
   "source": [
    "nums[0:4]"
   ]
  },
  {
   "cell_type": "code",
   "execution_count": null,
   "id": "4c7f6ff9",
   "metadata": {},
   "outputs": [],
   "source": [
    "# If you don't include 'start', the slice starts at the beginning of the list.\n",
    "nums[:4]"
   ]
  },
  {
   "cell_type": "code",
   "execution_count": null,
   "id": "8c79ea7e",
   "metadata": {},
   "outputs": [],
   "source": [
    "# If you don't include 'stop', the slice starts at the end of the list.\n",
    "nums[-2:]"
   ]
  },
  {
   "cell_type": "code",
   "execution_count": null,
   "id": "b4b9c1ec",
   "metadata": {},
   "outputs": [],
   "source": [
    "# Interesting...\n",
    "nums[::-1]"
   ]
  },
  {
   "cell_type": "markdown",
   "id": "73f0db05",
   "metadata": {
    "slideshow": {
     "slide_type": "fragment"
    }
   },
   "source": [
    "### Strings\n",
    "\n",
    "Strings are similar to lists: they have indexes as well. Each element of a string can be thought of as a \"character\", which is a string of length 1."
   ]
  },
  {
   "cell_type": "code",
   "execution_count": null,
   "id": "bee1cba1",
   "metadata": {},
   "outputs": [],
   "source": [
    "university = 'university of michigan'"
   ]
  },
  {
   "cell_type": "code",
   "execution_count": null,
   "id": "eef130b7",
   "metadata": {},
   "outputs": [],
   "source": [
    "university[1]"
   ]
  },
  {
   "cell_type": "code",
   "execution_count": null,
   "id": "fdef2c86",
   "metadata": {},
   "outputs": [],
   "source": [
    "university[11:13]"
   ]
  },
  {
   "cell_type": "code",
   "execution_count": null,
   "id": "ef04ba5d",
   "metadata": {},
   "outputs": [],
   "source": [
    "university[-8:]"
   ]
  },
  {
   "cell_type": "markdown",
   "id": "42830488",
   "metadata": {
    "slideshow": {
     "slide_type": "fragment"
    }
   },
   "source": [
    "Strings have various methods, but unlike `append`, they are not destructive – they return new strings."
   ]
  },
  {
   "cell_type": "code",
   "execution_count": null,
   "id": "8737aeb2",
   "metadata": {},
   "outputs": [],
   "source": [
    "university.title()"
   ]
  },
  {
   "cell_type": "code",
   "execution_count": null,
   "id": "18d70151",
   "metadata": {},
   "outputs": [],
   "source": [
    "university.replace('i', 'I').split()"
   ]
  },
  {
   "cell_type": "markdown",
   "id": "bf1fcead",
   "metadata": {},
   "source": [
    "<div class=\"alert alert-info\" markdown=\"1\">\n",
    "\n",
    "### Task 2: Uniqnames\n",
    "\n",
    "</div>\n",
    "\n",
    "The list `students` contains the (fake) @umich.edu email addresses of several students.\n",
    "\n",
    "Using only the `students` variable, assign `third_last` to the **uniqname** (not email address) of the **third-last** student in the list. By \"using only the `students` variable\", we mean that you shouldn't hard-code the student's uniqname as a string just by looking at the list."
   ]
  },
  {
   "cell_type": "code",
   "execution_count": null,
   "id": "39d1fdc5",
   "metadata": {
    "tags": []
   },
   "outputs": [],
   "source": [
    "students = [\n",
    "    \"jsmith42@umich.edu\",\n",
    "    \"sarah.johnson@umich.edu\",\n",
    "    \"m.chen@umich.edu\",\n",
    "    \"alex.rodriguez@umich.edu\",\n",
    "    \"kpatel23@umich.edu\",\n",
    "    \"emma.wilson@umich.edu\",\n",
    "    \"david1lee@umich.edu\",\n",
    "    \"r.thompson@umich.edu\",\n",
    "    \"nicole.garcia@umich.edu\",\n",
    "    \"jbrown55@umich.edu\",\n",
    "    \"tyler.anderson@umich.edu\",\n",
    "    \"amy.kim@umich.edu\"\n",
    "]\n",
    "\n",
    "third_last = ...\n",
    "third_last"
   ]
  },
  {
   "cell_type": "code",
   "execution_count": null,
   "id": "93c18006",
   "metadata": {
    "deletable": false,
    "editable": false
   },
   "outputs": [],
   "source": [
    "grader.check(\"task02\")"
   ]
  },
  {
   "cell_type": "markdown",
   "id": "3215f4f3",
   "metadata": {
    "slideshow": {
     "slide_type": "fragment"
    }
   },
   "source": [
    "### Immutability\n",
    "\n",
    "One key difference between lists and strings: you **can change** an element of a list, but **not** of a string.\n",
    "\n",
    "If you want to change any part of a string, you must make a new string. This is because lists are **mutable**, while strings are **immutable**.\n",
    "\n",
    "Below, before and after running `test_list[1] = 99`, `test_list` still refers to the same object in memory under the hood."
   ]
  },
  {
   "cell_type": "code",
   "execution_count": null,
   "id": "d41c3579",
   "metadata": {},
   "outputs": [],
   "source": [
    "test_list = [8, 0, 2, 4]\n",
    "test_string = 'zebra'"
   ]
  },
  {
   "cell_type": "code",
   "execution_count": null,
   "id": "4fdabef6",
   "metadata": {},
   "outputs": [],
   "source": [
    "id(test_list) # Memory address of test_list."
   ]
  },
  {
   "cell_type": "code",
   "execution_count": null,
   "id": "4787f9bd",
   "metadata": {},
   "outputs": [],
   "source": [
    "id(test_string)"
   ]
  },
  {
   "cell_type": "code",
   "execution_count": null,
   "id": "d5d98c7b",
   "metadata": {},
   "outputs": [],
   "source": [
    "test_list[1] = 99\n",
    "test_list"
   ]
  },
  {
   "cell_type": "code",
   "execution_count": null,
   "id": "0b47b7a9",
   "metadata": {},
   "outputs": [],
   "source": [
    "id(test_list) # Same memory address!"
   ]
  },
  {
   "cell_type": "code",
   "execution_count": null,
   "id": "4bb9da98",
   "metadata": {},
   "outputs": [],
   "source": [
    "# This will error! Read the error message carefully.\n",
    "test_string[1] = 'f'"
   ]
  },
  {
   "cell_type": "code",
   "execution_count": null,
   "id": "4d307c92",
   "metadata": {},
   "outputs": [],
   "source": [
    "# Since we can't \"change\" test_string, we need to make a \"new\" string \n",
    "# containing the parts of it that we wanted.\n",
    "# We can re-use the variable name test_string, though!\n",
    "test_string = test_string[:1] + 'f' + test_string[2:]\n",
    "test_string"
   ]
  },
  {
   "cell_type": "markdown",
   "id": "6ab48194",
   "metadata": {
    "slideshow": {
     "slide_type": "fragment"
    }
   },
   "source": [
    "_Most_ data structures – lists, dictionaries, `numpy` arrays, `pandas` DataFrames – are **mutable**, which means we need to be **extremely careful** when using them to modify them unexpectedly.\n",
    "\n",
    "As an aside, Python Tutor, found at [pythontutor.com](https://pythontutor.com), allows you to visualize the execution of Python code.\n",
    "\n",
    "Click [this link](https://pythontutor.com/render.html#code=test_list%20%3D%20%5B8,%200,%202,%204%5D%0Atest_string%20%3D%20'zebra'%0Atest_list%5B1%5D%20%3D%2099%0Atest_string%5B1%5D%20%3D%20'f'&cumulative=false&curInstr=0&heapPrimitives=nevernest&mode=display&origin=opt-frontend.js&py=311&rawInputLstJSON=%5B%5D&textReferences=false) to visualize the previous slide's code, or run the cell below to see it embedded in this notebook."
   ]
  },
  {
   "cell_type": "code",
   "execution_count": null,
   "id": "ce589948",
   "metadata": {},
   "outputs": [],
   "source": [
    "from IPython.display import IFrame\n",
    "def test_pt_example():\n",
    "    src = \"https://pythontutor.com/iframe-embed.html#code=test_list%20%3D%20%5B8,%200,%202,%204%5D%0Atest_string%20%3D%20'zebra'%0Atest_list%5B1%5D%20%3D%2099%0Atest_string%5B1%5D%20%3D%20'f'&codeDivHeight=400&codeDivWidth=350&cumulative=false&curInstr=-1&heapPrimitives=nevernest&origin=opt-frontend.js&py=311&rawInputLstJSON=%5B%5D&textReferences=false\"\n",
    "    width = 800\n",
    "    height = 500\n",
    "    display(IFrame(src, width, height))\n",
    "\n",
    "test_pt_example()"
   ]
  },
  {
   "cell_type": "markdown",
   "id": "b6747ba6",
   "metadata": {
    "slideshow": {
     "slide_type": "fragment"
    }
   },
   "source": [
    "Python is notoriously opaque when it comes to variables and pointers. Here's a [good reference](https://nedbatchelder.com/text/names.html)."
   ]
  },
  {
   "cell_type": "markdown",
   "id": "fd8bb619",
   "metadata": {
    "slideshow": {
     "slide_type": "slide"
    }
   },
   "source": [
    "## Functions and `if`-Statements\n",
    "\n",
    "---\n",
    "\n",
    "### Indentation\n",
    "\n",
    "In C++, to define code blocks, you used `{`curly brackets`}`.\n",
    "\n",
    "```cpp\n",
    "            double future_value(double present_value, double APR, int months) {\n",
    "                double r = APR / 12.0 / 100.0;\n",
    "                return present_value * pow(1 + r, months);\n",
    "            }\n",
    "```\n",
    "\n",
    "In Python, you use a colon`:` and then **indent** the following lines by either a **tab** or **four spaces**."
   ]
  },
  {
   "cell_type": "code",
   "execution_count": null,
   "id": "a3c3132d",
   "metadata": {},
   "outputs": [],
   "source": [
    "def future_value(present_value, APR, months):\n",
    "    r = APR / 12 / 100\n",
    "    return present_value * (1 + r) ** months"
   ]
  },
  {
   "cell_type": "code",
   "execution_count": null,
   "id": "9d9d2d99",
   "metadata": {},
   "outputs": [],
   "source": [
    "future_value(100, 7, 36)"
   ]
  },
  {
   "cell_type": "markdown",
   "id": "aec83e01",
   "metadata": {
    "slideshow": {
     "slide_type": "fragment"
    }
   },
   "source": [
    "The `def` keyword defines a new function. `if`-statements, `for`-loops, and `while`-loops work similarly as in other languages.\n",
    "\n",
    "The remainder of the lab contains practice with functions and `if`-statements; you'll practice writing loops in Homework 1."
   ]
  },
  {
   "cell_type": "markdown",
   "id": "7f8a202b",
   "metadata": {},
   "source": [
    "<div class=\"alert alert-info\" markdown=\"1\">\n",
    "\n",
    "### Task 3: Tax Brackets\n",
    "\n",
    "</div>\n",
    "\n",
    "The United States, like many countries, uses a progressive tax bracket system. This means that as your earnings increase, the percentage of your earnings you owe in tax also increases. In addition, the US tax system uses marginal tax brackets – what this means is that US taxpayers pay different tax percentages on different \"chunks\" of their earnings.\n",
    "\n",
    "Let's suppose the tax brackets for the 2024 tax year for single filers are defined by the table below. These are close to the actual brackets, but for simplicity's sake we'll use 5 brackets instead of 7. \n",
    "\n",
    "| Tax Bracket | Taxable Income |\n",
    "| --- | --- |\n",
    "| 10% | [$0, \\\\$11,000] |\n",
    "| 12% | (\\\\$11,000, \\\\$44,725] |\n",
    "| 22% | (\\\\$44,725, \\\\$95,375] |\n",
    "| 24% | (\\\\$95,375, \\\\$182,100] |\n",
    "| 32% | Over \\\\$182,100 |\n",
    "\n",
    "The notation $(a, b]$ means \"greater than $a$ and less than or equal to $b$\". For example, someone with a taxable income of \\\\$44,725 is in the 12% bracket, but someone with a taxable income of \\\\$44,725.01 is in the 22% bracket. For simplicity, we will only test your code on integer values of taxable income.\n",
    "\n",
    "If someone has a taxable income of \\\\$75,000, we say they are in the 22% tax bracket. However, such an individual doesn't owe 22% of \\\\$75,000 in taxes. Instead, they owe:\n",
    "- 10% of \\\\$11,000, **plus**\n",
    "- 12% of \\\\$33,725 (which is \\\\$44,725 - \\\\$11,000), **plus**\n",
    "- 22% of \\\\$30,275 (which is \\\\$75,000 - \\\\$44,725).\n",
    "\n",
    "Complete the implementation of the function `tax_bracket`, which takes in a taxable income, `income`, and returns the tax bracket it is in, as a **proportion**. Assume that `income` is a non-negative integer. Example behavior is given below.\n",
    "\n",
    "```python\n",
    ">>> tax_bracket(75000)\n",
    "0.22\n",
    "\n",
    ">>> tax_bracket(402150)\n",
    "0.32\n",
    "```"
   ]
  },
  {
   "cell_type": "code",
   "execution_count": null,
   "id": "bd14deaa",
   "metadata": {
    "tags": []
   },
   "outputs": [],
   "source": [
    "def tax_bracket(income):\n",
    "    ...\n",
    "\n",
    "# Feel free to change this input to make sure your function works correctly.\n",
    "tax_bracket(75000)"
   ]
  },
  {
   "cell_type": "code",
   "execution_count": null,
   "id": "e0d43d64",
   "metadata": {
    "deletable": false,
    "editable": false
   },
   "outputs": [],
   "source": [
    "grader.check(\"task03\")"
   ]
  },
  {
   "cell_type": "markdown",
   "id": "3e8f5d75",
   "metadata": {},
   "source": [
    "<div class=\"alert alert-info\" markdown=\"1\">\n",
    "\n",
    "### Task 4: Running, Eating, Living\n",
    "\n",
    "</div>\n",
    "\n",
    "Complete the implementation of the function `is_ing`, which takes in a string `s` and returns `True` if `s` ends in \"ing\" and `False` otherwise. Example behavior is given below.\n",
    "\n",
    "```python\n",
    ">>> is_ing('running')\n",
    "True\n",
    "\n",
    "# Not case sensitive!\n",
    ">>> is_ing('eatInG')\n",
    "True\n",
    "\n",
    ">>> is_ing('science')\n",
    "False\n",
    "\n",
    ">>> is_ing('25')\n",
    "False\n",
    "```"
   ]
  },
  {
   "cell_type": "code",
   "execution_count": null,
   "id": "f5e91656",
   "metadata": {
    "tags": []
   },
   "outputs": [],
   "source": [
    "def is_ing(s):\n",
    "    ...\n",
    "\n",
    "# Feel free to change this input to make sure your function works correctly.\n",
    "is_ing('running')"
   ]
  },
  {
   "cell_type": "code",
   "execution_count": null,
   "id": "e539a732",
   "metadata": {
    "deletable": false,
    "editable": false
   },
   "outputs": [],
   "source": [
    "grader.check(\"task04\")"
   ]
  },
  {
   "cell_type": "markdown",
   "id": "20d0bea2",
   "metadata": {},
   "source": [
    "<div class=\"alert alert-info\" markdown=\"1\">\n",
    "\n",
    "### Task 5: Pump the Brakes\n",
    "\n",
    "</div>\n",
    "\n",
    "\n",
    "Complete the implementation of the function `pump`, which takes in a string `base` and integer `rep` and returns a string with the same first and last characters as `base`, and with everything except the first and last characters in `base` repeated `rep` times. Example behavior is given below.\n",
    "\n",
    "```python\n",
    ">>> pump('zebra', 4)\n",
    "'zebrebrebrebra'\n",
    "\n",
    "# If base is <= 2 characters long, return base.\n",
    ">>> pump('hi', 2)\n",
    "'hi'\n",
    "```\n",
    "\n",
    "_Hint: You don't need a loop to answer this question. Instead, experiment with what happens when you multiply a string by an integer!_"
   ]
  },
  {
   "cell_type": "code",
   "execution_count": null,
   "id": "495c92f9",
   "metadata": {
    "tags": []
   },
   "outputs": [],
   "source": [
    "def pump(base, rep):\n",
    "    ...\n",
    "\n",
    "# Feel free to change this input to make sure your function works correctly.\n",
    "pump('zebra', 4)"
   ]
  },
  {
   "cell_type": "code",
   "execution_count": null,
   "id": "969c80b1",
   "metadata": {
    "deletable": false,
    "editable": false
   },
   "outputs": [],
   "source": [
    "grader.check(\"task05\")"
   ]
  },
  {
   "cell_type": "markdown",
   "id": "ac50cca5",
   "metadata": {},
   "source": [
    "## Finish Line 🏁\n",
    "\n",
    "Congratulations! You're ready to submit Lab 1.\n",
    "\n",
    "To submit your work to Gradescope:\n",
    "\n",
    "1. Select `Kernel -> Restart & Run All` to ensure that you have executed all cells, including the test cells. **There will be cells that error from the \"Notebook Memory Model\" section; comment the buggy lines of code out.**\n",
    "\n",
    "2. Read through the notebook to make sure everything is fine and all tests passed.\n",
    "3. Run the cell below to run all tests, and make sure that they all pass.\n",
    "4. Download your notebook using `File -> Download`, then upload your notebook to Gradescope under \"Lab 1\".\n",
    "5. Stick around for a few minutes while the Gradescope autograder grades your work. Make sure you see that all **public tests** have passed on Gradescope.\n",
    "6. Show your lab TA once you've finished your worksheet too."
   ]
  }
 ],
 "metadata": {
  "kernelspec": {
   "display_name": "Python 3 (ipykernel)",
   "language": "python",
   "name": "python3"
  },
  "language_info": {
   "codemirror_mode": {
    "name": "ipython",
    "version": 3
   },
   "file_extension": ".py",
   "mimetype": "text/x-python",
   "name": "python",
   "nbconvert_exporter": "python",
   "pygments_lexer": "ipython3",
   "version": "3.10.18"
  },
  "otter": {
   "tests": {
    "task01": {
     "name": "task01",
     "points": null,
     "suites": [
      {
       "cases": [
        {
         "code": ">>> isinstance(seconds_in_an_hour, int)\nTrue",
         "hidden": false,
         "locked": false
        },
        {
         "code": ">>> seconds_in_an_hour > 3000\nTrue",
         "failure_message": "Your answer is too small!",
         "hidden": false,
         "locked": false
        },
        {
         "code": ">>> seconds_in_an_hour == 3600\nTrue",
         "hidden": false,
         "locked": false,
         "success_message": "Nice job!"
        }
       ],
       "scored": true,
       "setup": "",
       "teardown": "",
       "type": "doctest"
      }
     ]
    },
    "task02": {
     "name": "task02",
     "points": null,
     "suites": [
      {
       "cases": [
        {
         "code": ">>> isinstance(third_last, str)\nTrue",
         "hidden": false,
         "locked": false
        },
        {
         "code": ">>> '@' not in third_last\nTrue",
         "failure_message": "Make sure your answer doesn't contain @umich.edu.",
         "hidden": false,
         "locked": false
        },
        {
         "code": ">>> third_last == 'jbrown'\nFalse",
         "hidden": false,
         "locked": false
        }
       ],
       "scored": true,
       "setup": "",
       "teardown": "",
       "type": "doctest"
      }
     ]
    },
    "task03": {
     "name": "task03",
     "points": null,
     "suites": [
      {
       "cases": [
        {
         "code": ">>> tax_bracket(11000) == 0.10\nTrue",
         "hidden": false,
         "locked": false
        },
        {
         "code": ">>> tax_bracket(100_000) == 0.24\nTrue",
         "hidden": false,
         "locked": false
        },
        {
         "code": ">>> tax_bracket(1) == 0.10\nTrue",
         "hidden": false,
         "locked": false
        },
        {
         "code": ">>> tax_bracket(13_332) == 0.12\nTrue",
         "hidden": false,
         "locked": false
        },
        {
         "code": ">>> tax_bracket(999_999) == 0.32\nTrue",
         "hidden": false,
         "locked": false
        }
       ],
       "scored": true,
       "setup": "",
       "teardown": "",
       "type": "doctest"
      }
     ]
    },
    "task04": {
     "name": "task04",
     "points": null,
     "suites": [
      {
       "cases": [
        {
         "code": ">>> is_ing('running')\nTrue",
         "hidden": false,
         "locked": false
        },
        {
         "code": ">>> is_ing('eatInG')\nTrue",
         "hidden": false,
         "locked": false
        },
        {
         "code": ">>> not is_ing('science')\nTrue",
         "hidden": false,
         "locked": false
        },
        {
         "code": ">>> not is_ing('25')\nTrue",
         "hidden": false,
         "locked": false
        },
        {
         "code": ">>> not is_ing('')\nTrue",
         "hidden": false,
         "locked": false
        },
        {
         "code": ">>> is_ing('ING')\nTrue",
         "hidden": false,
         "locked": false
        }
       ],
       "scored": true,
       "setup": "",
       "teardown": "",
       "type": "doctest"
      }
     ]
    },
    "task05": {
     "name": "task05",
     "points": null,
     "suites": [
      {
       "cases": [
        {
         "code": ">>> pump('zebra', 4) == 'zebrebrebrebra'\nTrue",
         "hidden": false,
         "locked": false
        },
        {
         "code": ">>> pump('hi', 2) == 'hi'\nTrue",
         "hidden": false,
         "locked": false
        },
        {
         "code": ">>> pump('', 74) == ''\nTrue",
         "hidden": false,
         "locked": false
        },
        {
         "code": ">>> pump('hello', 1) == 'hello'\nTrue",
         "hidden": false,
         "locked": false
        },
        {
         "code": ">>> pump('zebra', 6) == 'zebrebrebrebrebrebra'\nTrue",
         "hidden": false,
         "locked": false
        },
        {
         "code": ">>> pump('wolverine', 5) == 'wolverinolverinolverinolverinolverine'\nTrue",
         "hidden": false,
         "locked": false
        },
        {
         "code": ">>> pump('michigan', 15).count('ichiga') == 15\nTrue",
         "hidden": false,
         "locked": false
        }
       ],
       "scored": true,
       "setup": "",
       "teardown": "",
       "type": "doctest"
      }
     ]
    }
   }
  }
 },
 "nbformat": 4,
 "nbformat_minor": 5
}
