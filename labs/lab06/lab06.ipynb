{
 "cells": [
  {
   "cell_type": "code",
   "execution_count": null,
   "id": "79a2a678",
   "metadata": {
    "deletable": false,
    "editable": false
   },
   "outputs": [],
   "source": [
    "# Initialize Otter\n",
    "import otter\n",
    "grader = otter.Notebook(\"lab06.ipynb\")"
   ]
  },
  {
   "cell_type": "markdown",
   "id": "bfef5d7a",
   "metadata": {},
   "source": [
    "<div class=\"alert alert-success\">\n",
    "\n",
    "#### Lab 6\n",
    "    \n",
    "# Rank, Column Space, and Null Space\n",
    "\n",
    "### EECS 245, Fall 2025 at the University of Michigan\n",
    "    \n",
    "</div>\n",
    "\n",
    "### Instructions\n",
    "\n",
    "Most labs will have Jupyter Notebooks, like this one, designed to supplement the in-person worksheet. \n",
    "\n",
    "To write and run code in this notebook, you have two options:\n",
    "\n",
    "1. **Use the EECS 245 DataHub.** To do this, click the \"code\" link under Lab 6 on the course website. Log in with your uniqname and set a password.\n",
    "1. **Set up a Jupyter Notebook environment locally, and use `git` to clone our course repository.** For instructions on how to do this, see the [**Tech Support**](https://eecs245.org/tech-support) page of the course website.\n",
    "\n",
    "To receive credit for the lab, you'll need to show your TA that you've passed all test cases in your notebook before the end of the lab session. **There's no need to submit your notebook to Gradescope.**"
   ]
  },
  {
   "cell_type": "code",
   "execution_count": null,
   "id": "126652bb",
   "metadata": {},
   "outputs": [],
   "source": [
    "# Run this cell to get started.\n",
    "import numpy as np\n",
    "import pandas as pd\n",
    "\n",
    "pd.options.plotting.backend = \"plotly\"\n",
    "\n",
    "import plotly.express as px\n",
    "import plotly.io as pio\n",
    "import plotly.figure_factory as ff\n",
    "from plotly.subplots import make_subplots\n",
    "\n",
    "# Set default layout for all plotly figures\n",
    "import plotly.graph_objs as go\n",
    "\n",
    "custom_template = go.layout.Template(pio.templates[\"plotly_white\"])\n",
    "custom_template.layout.plot_bgcolor = \"white\"\n",
    "custom_template.layout.paper_bgcolor = \"white\"\n",
    "custom_template.layout.margin = dict(l=60, r=60, t=60, b=60)\n",
    "custom_template.layout.width = 700\n",
    "custom_template.layout.font = dict(\n",
    "    family=\"Palatino Linotype, Palatino, serif\",\n",
    "    color=\"black\"\n",
    ")\n",
    "\n",
    "pio.templates[\"custom\"] = custom_template\n",
    "pio.templates.default = \"custom\""
   ]
  },
  {
   "cell_type": "markdown",
   "id": "18f36238",
   "metadata": {},
   "source": [
    "## Random Simulations\n",
    "\n",
    "---\n",
    "\n",
    "The `numpy.random` sub-module contains a number of functions for generating random numbers.\n",
    "\n",
    "Each time you run the cell below, you should see a (possibly) different random integer, drawn from 1 through 6, inclusive. Think of it like rolling a die."
   ]
  },
  {
   "cell_type": "code",
   "execution_count": null,
   "id": "f1cb0326",
   "metadata": {},
   "outputs": [],
   "source": [
    "np.random.randint(1, 7)"
   ]
  },
  {
   "cell_type": "markdown",
   "id": "1855478a",
   "metadata": {},
   "source": [
    "If you're curious as to how these random numbers are generated, check out the Wikipedia article on [Pseudorandom number generators](https://en.wikipedia.org/wiki/Pseudorandom_number_generator).\n",
    "\n",
    "Each time you run the cell below, you'll see a 3 randomly chosen first names of students in this class, drawn such that each student is equally likely to be chosen, and the same student is not chosen twice.\n",
    "\n",
    "Change `replace=False` to `replace=True` and run the cell several times. What do you notice?"
   ]
  },
  {
   "cell_type": "code",
   "execution_count": null,
   "id": "d24e1f59",
   "metadata": {},
   "outputs": [],
   "source": [
    "names = pd.read_csv('data/names.csv', header=None)[0].to_numpy()\n",
    "\n",
    "np.random.choice(names, size=3, replace=False)"
   ]
  },
  {
   "cell_type": "markdown",
   "id": "ff13dc7b",
   "metadata": {},
   "source": [
    "One application of random simulations is that they can be used to estimate the **probability** of an event whose exact probability is difficult to compute by hand. As an example, suppose we'd like to find the probability of seeing 60 or more heads in 100 flips of a fair coin. (This is a probability we can solve exactly, by the way, using knowledge from EECS 203 if you've taken it.) Run the following few cells."
   ]
  },
  {
   "cell_type": "code",
   "execution_count": null,
   "id": "d756ae25",
   "metadata": {},
   "outputs": [],
   "source": [
    "num_heads = []\n",
    "for _ in range(10000):\n",
    "    # Treat 0 as tails, 1 as heads\n",
    "    flips = np.random.randint(0, 2, size=100)\n",
    "    num_heads.append(np.sum(flips))\n",
    "\n",
    "fig = px.histogram(num_heads, nbins=20, title='Distribution of Number of Heads in 100 Flips', histnorm='probability')\n",
    "fig.update_layout(showlegend=False, xaxis_title='Number of Heads', yaxis_title='Probability')"
   ]
  },
  {
   "cell_type": "code",
   "execution_count": null,
   "id": "33d1fc4c",
   "metadata": {},
   "outputs": [],
   "source": [
    "# This is an array with length 10000, in which each entry is either True or False.\n",
    "# Change 60 to 50 or 40 and observe what happens to the array.\n",
    "np.array(num_heads) >= 60"
   ]
  },
  {
   "cell_type": "code",
   "execution_count": null,
   "id": "4c5195f0",
   "metadata": {},
   "outputs": [],
   "source": [
    "# The mean of the Trues and Falses (which are treated as 1s and 0s, respectively) is the proportion of Trues,\n",
    "# which is the estimated probability of seeing 60 or more heads in 100 flips of a fair coin.\n",
    "# Change 60 to 50 or 40 and observe what happens to the estimated probability.\n",
    "np.mean(np.array(num_heads) >= 60)"
   ]
  },
  {
   "cell_type": "markdown",
   "id": "9363dbe5",
   "metadata": {},
   "source": [
    "Each time you run the above three cells, the estimated probability is slightly different, since it depends on 10000 random experiments, each of which involved 100 random coin flips. There's a way to write the simulation above more compactly and without a `for`-loop, using `np.random.multinomial`, as we will see at the end of the semester when we cover probability in more detail.\n",
    "\n",
    "For now, we'd like to introduce a relevant application: generating random **vectors and matrices**, i.e. (2D) arrays with random entries. Exploring randomly generated matrices is a good way to develop an intuition for various properties of matrices, including their rank and the linear independence and/or orthogonality of their rows and columns.\n",
    "\n",
    "Run the cell below several times."
   ]
  },
  {
   "cell_type": "code",
   "execution_count": null,
   "id": "65251a63",
   "metadata": {},
   "outputs": [],
   "source": [
    "# Run, then run again, then run again, then run again...\n",
    "A_3_by_4 = np.random.randn(3, 4)\n",
    "print('A = \\n', A_3_by_4, '\\n')\n",
    "print('rank(A) =', np.linalg.matrix_rank(A_3_by_4))"
   ]
  },
  {
   "cell_type": "markdown",
   "id": "8857dd5a",
   "metadata": {},
   "source": [
    "Each time the cell above is run, `A` is a different random $3 \\times 4$ matrix, whose elements are each chosen independently from a normal (Gaussian) distribution with mean 0 and standard deviation 1.\n",
    "\n",
    "What you should notice is that almost every time, the rank of `A` is 3, even though – as we know – it's very well possible for a $3 \\times 4$ matrix to have rank 2, 1, or 0."
   ]
  },
  {
   "cell_type": "markdown",
   "id": "936dcd43",
   "metadata": {},
   "source": [
    "<div class=\"alert alert-info\" markdown=\"1\">\n",
    "\n",
    "### Task 1\n",
    "\n",
    "</div>\n",
    "\n",
    "In the cell below, write a one sentence explanation of why the rank of `A` is 3 every time when the code cell above is run, even though it's possible for a 3-by-4 matrix to have rank 2, 1, or 0."
   ]
  },
  {
   "cell_type": "markdown",
   "id": "e5899026",
   "metadata": {},
   "source": [
    "_Write your answer here, replacing this text._"
   ]
  },
  {
   "cell_type": "markdown",
   "id": "a78c80e0",
   "metadata": {},
   "source": [
    "<div class=\"alert alert-info\" markdown=\"1\">\n",
    "\n",
    "### Task 2\n",
    "\n",
    "</div>\n",
    "\n",
    "Complete the implementation of the following two functions:\n",
    "1. `random_product(n, d, p)`, which generates a random `n`-by-`d` matrix `A` and a random `d`-by-`p` matrix `B`, and returns the product `A @ B`. Use the `np.random.randn` function to generate the entries of `A` and `B`.\n",
    "2. `simulate_product_and_rank(n, d, p, num_trials)`, which runs the first function `num_trials` times, computes the rank of each resulting matrix, and returns the **average** of these `num_trials` ranks.\n",
    "\n",
    "For example, in `simulate_product_and_rank(3, 4, 5, 10000).mean()`, we return the average rank of the product of a random 3-by-4 matrix and a random 4-by-5 matrix, averaged over 10000 trials."
   ]
  },
  {
   "cell_type": "code",
   "execution_count": null,
   "id": "e140cf30",
   "metadata": {
    "tags": []
   },
   "outputs": [],
   "source": [
    "def random_product(n, d, p):\n",
    "    ...\n",
    "\n",
    "def simulate_product_and_rank(n, d, p, num_trials=10000):\n",
    "    ...\n",
    "\n",
    "# Feel free to change the inputs to verify that your function works as expected.\n",
    "simulate_product_and_rank(3, 4, 5).mean()"
   ]
  },
  {
   "cell_type": "code",
   "execution_count": null,
   "id": "4e79b76e",
   "metadata": {
    "deletable": false,
    "editable": false
   },
   "outputs": [],
   "source": [
    "grader.check(\"task02\")"
   ]
  },
  {
   "cell_type": "markdown",
   "id": "8b7f1818",
   "metadata": {},
   "source": [
    "Make sure you can explain _why_ you're seeing the behavior that you're seeing."
   ]
  },
  {
   "cell_type": "markdown",
   "id": "e89386e8",
   "metadata": {},
   "source": [
    "<div class=\"alert alert-info\" markdown=\"1\">\n",
    "\n",
    "### Task 3\n",
    "\n",
    "</div>\n",
    "\n",
    "The randomly generated matrices in Tasks 1 and 2 were made up of arbitrary real numbers, drawn from a normal distribution.\n",
    "\n",
    "Next, we'll explore what might happen if we generate matrices with **binary entries**, i.e. each entry is either 0 or 1. Might we see different results?\n",
    "\n",
    "Complete the implementation of the following two functions:\n",
    "1. `random_square_binary_product(n)`, which generates two random `n`-by-`n` (square) matrices with binary entries, and returns their product.\n",
    "2. `distribution_of_ranks_for_square_binary_products(n, num_trials)`, which runs the first function `num_trials` times, computes the rank of each resulting matrix, and returns a `plotly` **bar chart** of the empirical distribution of the ranks.\n",
    "\n",
    "You'll know you did this correctly if `distribution_of_ranks_for_square_binary_products(3, 10000)` returns a bar chart with 4 bars, one for each possible rank (0, 1, 2, 3). We've provided some help in creating the bar chart."
   ]
  },
  {
   "cell_type": "code",
   "execution_count": null,
   "id": "1a02fe41",
   "metadata": {},
   "outputs": [],
   "source": [
    "def random_square_binary_product(n):\n",
    "    ...\n",
    "\n",
    "def distribution_of_ranks_for_square_binary_products(n, num_trials=10000):\n",
    "    ...\n",
    "\n",
    "    # If ranks is a list of length num_trials, containing the rank of each product,\n",
    "    # this will generate a bar chart showing the empirical distribution of the ranks.\n",
    "    # If you're curious, ask your TA how this works!\n",
    "    \n",
    "    # fig = pd.Series(ranks).value_counts(normalize=True).sort_index().plot(kind='bar', title=f'Distribution of Ranks for Square Binary Products of size {n}x{n}')\n",
    "    # fig.update_layout(showlegend=False, xaxis_title='Rank', yaxis_title='Probability')\n",
    "    # return fig\n",
    "\n",
    "# Feel free to change the inputs to verify that your function works as expected.\n",
    "distribution_of_ranks_for_square_binary_products(3)"
   ]
  },
  {
   "cell_type": "markdown",
   "id": "102a912a",
   "metadata": {
    "vscode": {
     "languageId": "raw"
    }
   },
   "source": [
    "This task is **not** autograded; instead, to get checked off, your TA will verify that you've produced the correct bar chart.\n",
    "\n",
    "Once you've completed Task 3, run the cell below to look at the distributions of ranks for square binary products of size 3x3, 15x15, and 30x30."
   ]
  },
  {
   "cell_type": "code",
   "execution_count": null,
   "id": "5a39fb60",
   "metadata": {},
   "outputs": [],
   "source": [
    "figs = [distribution_of_ranks_for_square_binary_products(i, 10000) for i in [3, 15, 30]]\n",
    "\n",
    "combined_fig = make_subplots(\n",
    "    rows=1, \n",
    "    cols=3,\n",
    "    subplot_titles=['3x3', '15x15', '30x30']\n",
    ")\n",
    "\n",
    "for i, fig in enumerate(figs, start=1):\n",
    "    for trace in fig.data:\n",
    "        combined_fig.add_trace(trace, row=1, col=i)\n",
    "\n",
    "# Update layout\n",
    "combined_fig.update_layout(\n",
    "    height=500,\n",
    "    width=1000,\n",
    "    showlegend=False,\n",
    ")\n",
    "\n",
    "combined_fig.show()\n"
   ]
  },
  {
   "cell_type": "markdown",
   "id": "28ad5d34",
   "metadata": {},
   "source": [
    "<div class=\"alert alert-info\" markdown=\"1\">\n",
    "\n",
    "### Task 4\n",
    "\n",
    "</div>\n",
    "\n",
    "In the cell below, address the following questions:\n",
    "\n",
    "1. In the case of multiplying matrices with random real-valued entries, the rank was always the largest possible value it could have been. With binary entries, the rank seems to be more spread out. Why?\n",
    "1. Why do the distributions seem to be getting more concentrated as the size of the matrix increases?"
   ]
  },
  {
   "cell_type": "markdown",
   "id": "17e0bf08",
   "metadata": {},
   "source": [
    "_Write your answer here, replacing this text._"
   ]
  },
  {
   "cell_type": "markdown",
   "id": "cfa0b307",
   "metadata": {},
   "source": [
    "<div class=\"alert alert-info\" markdown=\"1\">\n",
    "\n",
    "### Task 5\n",
    "\n",
    "</div>\n",
    "\n",
    "The final idea we'll have you explore is called the **curse of dimensionality**. In particular, we'll look at how the cosine similarity between two random vectors in $\\mathbb{R}^n$ behaves as $n$ increases.\n",
    "\n",
    "Complete the implementation of the following two functions:\n",
    "1. `cosine_similarity_random_pair(n)`, which generates two random vectors **with real-valued components** (i.e. not binary) and returns their cosine similarity.\n",
    "1. `distribution_of_cosine_similarities(n, num_trials)`, which runs the first function `num_trials` times, and returns a `plotly` density curve of the cosine similarities. \n",
    "\n",
    "Again, we've provided some help in creating the density curve."
   ]
  },
  {
   "cell_type": "code",
   "execution_count": null,
   "id": "a190d8d5",
   "metadata": {},
   "outputs": [],
   "source": [
    "def cosine_similarity_random_pair(n):\n",
    "    ...\n",
    "\n",
    "def distribution_of_cosine_similarities(n, num_trials=10000):\n",
    "    ...\n",
    "\n",
    "    # Assumes similarities is a list of length num_trials, containing the cosine similarity of each pair of random vectors.\n",
    "    # This will generate a plot of the empirical distribution of the cosine similarities.\n",
    "    # If you're curious, ask your TA how this works!\n",
    "\n",
    "    # hist = ff.create_distplot([similarities], ['Cosine Similarity'], show_hist=False, show_rug=True)\n",
    "    # hist.update_layout(title=f'n = {n}', xaxis_title='Cosine Similarity', yaxis_title='Density', showlegend=False, xaxis_range=[-1, 1])\n",
    "    # return hist\n",
    "\n",
    "# Feel free to change the inputs to verify that your function works as expected.\n",
    "distribution_of_cosine_similarities(5)"
   ]
  },
  {
   "cell_type": "markdown",
   "id": "ce4caca4",
   "metadata": {},
   "source": [
    "This task is **not** autograded; instead, to get checked off, your TA will verify that you've produced the correct density curve.\n",
    "\n",
    "Once you've completed Task 5, run the cell below to look at the distributions of cosine similarities for pairs of random vectors of size 5, 50, and 500."
   ]
  },
  {
   "cell_type": "code",
   "execution_count": null,
   "id": "d66de6ca",
   "metadata": {},
   "outputs": [],
   "source": [
    "figs = [distribution_of_cosine_similarities(i) for i in [5, 50, 500]]\n",
    "\n",
    "combined_fig = make_subplots(\n",
    "    rows=1, \n",
    "    cols=3,\n",
    "    subplot_titles=['n = 5', 'n = 50', 'n = 500']\n",
    ")\n",
    "\n",
    "for i, fig in enumerate(figs, start=1):\n",
    "    for trace in fig.data:\n",
    "        # Ensure each trace has xaxis range set to [-1, 1]\n",
    "        trace.update(xaxis='x'+str(i) if i > 1 else 'x')\n",
    "        combined_fig.add_trace(trace, row=1, col=i)\n",
    "    # Set xaxis range for each subplot\n",
    "    combined_fig.update_xaxes(range=[-1, 1], row=1, col=i)\n",
    "\n",
    "# Update layout\n",
    "combined_fig.update_layout(\n",
    "    height=500,\n",
    "    width=1200,\n",
    "    showlegend=False,\n",
    ")\n",
    "\n",
    "combined_fig.show()"
   ]
  },
  {
   "cell_type": "markdown",
   "id": "93047d67",
   "metadata": {},
   "source": [
    "You'll notice that the density curves are all centered around 0. What's changing is their spread, or standard deviation.\n",
    "\n",
    "In fact, we can even make this interactive! Run the cell below to see a slider that allows you to change the size of the random vectors. If a plot doesn't appear automatically, drag the slider first. (This may not work, depending on your browser and local configuration; the main idea is conveyed in the plot above.)"
   ]
  },
  {
   "cell_type": "code",
   "execution_count": null,
   "id": "911d7190",
   "metadata": {},
   "outputs": [],
   "source": [
    "import ipywidgets as widgets\n",
    "\n",
    "widgets.interact(\n",
    "    distribution_of_cosine_similarities,\n",
    "    n=widgets.IntSlider(value=50, min=5, max=205, step=5, description='n'),\n",
    "    num_trials=widgets.fixed(10000)\n",
    ");"
   ]
  },
  {
   "cell_type": "markdown",
   "id": "bfeb219b",
   "metadata": {},
   "source": [
    "<div class=\"alert alert-info\" markdown=\"1\">\n",
    "\n",
    "### Task 6\n",
    "\n",
    "</div>\n",
    "\n",
    "In the cell below, explain the significance of the results above. As $n$ increases, what becomes more and more likely about the relationship between two random vectors in $\\mathbb{R}^n$? What is the significance of the term \"the curse of dimensionality\"?"
   ]
  },
  {
   "cell_type": "markdown",
   "id": "c3349b2a",
   "metadata": {},
   "source": [
    "_Write your answer here, replacing this text._"
   ]
  },
  {
   "cell_type": "markdown",
   "id": "d0474d27",
   "metadata": {},
   "source": [
    "## Finish Line 🏁\n",
    "\n",
    "Congratulations! Show your TA that you've finished all of the tasks above. Remember that there's nothing to submit to Gradescope."
   ]
  }
 ],
 "metadata": {
  "kernelspec": {
   "display_name": "Python 3 (ipykernel)",
   "language": "python",
   "name": "python3"
  },
  "language_info": {
   "codemirror_mode": {
    "name": "ipython",
    "version": 3
   },
   "file_extension": ".py",
   "mimetype": "text/x-python",
   "name": "python",
   "nbconvert_exporter": "python",
   "pygments_lexer": "ipython3",
   "version": "3.10.18"
  },
  "otter": {
   "tests": {
    "task02": {
     "name": "task02",
     "points": null,
     "suites": [
      {
       "cases": [
        {
         "code": ">>> callable(random_product) and callable(simulate_product_and_rank)\nTrue",
         "hidden": false,
         "locked": false
        },
        {
         "code": ">>> random_product(5, 1, 2).shape == (5, 2) and random_product(1, 2, 9).shape == (1, 9)\nTrue",
         "hidden": false,
         "locked": false
        },
        {
         "code": ">>> np.all(random_product(5, 1, 2) != random_product(5, 1, 2))\nTrue",
         "hidden": false,
         "locked": false
        },
        {
         "code": ">>> 2.5 < simulate_product_and_rank(3, 4, 5, 10000).mean() < 3.5\nTrue",
         "hidden": false,
         "locked": false
        },
        {
         "code": ">>> 1.5 < simulate_product_and_rank(9, 3, 2, 10000).mean() < 2.5\nTrue",
         "hidden": false,
         "locked": false
        }
       ],
       "scored": true,
       "setup": "",
       "teardown": "",
       "type": "doctest"
      }
     ]
    }
   }
  }
 },
 "nbformat": 4,
 "nbformat_minor": 5
}
