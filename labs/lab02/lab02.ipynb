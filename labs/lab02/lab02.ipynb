{
 "cells": [
  {
   "cell_type": "code",
   "execution_count": null,
   "id": "c8b951a7",
   "metadata": {
    "deletable": false,
    "editable": false
   },
   "outputs": [],
   "source": [
    "# Initialize Otter\n",
    "import otter\n",
    "grader = otter.Notebook(\"lab02.ipynb\")"
   ]
  },
  {
   "cell_type": "markdown",
   "id": "af598bc5",
   "metadata": {},
   "source": [
    "<div class=\"alert alert-success\">\n",
    "\n",
    "#### Lab 2\n",
    "    \n",
    "# Empirical Risk and Simple Linear Regression\n",
    "\n",
    "### EECS 245, Fall 2025 at the University of Michigan\n",
    "    \n",
    "</div>\n",
    "\n",
    "### Instructions\n",
    "\n",
    "Most labs will have Jupyter Notebooks, like this one, designed to supplement the in-person worksheet. \n",
    "\n",
    "To write and run code in this notebook, you have two options:\n",
    "\n",
    "1. **Use the EECS 245 DataHub.** To do this, click the \"code\" link under Lab 2 on the course website. Log in with your uniqname and set a password.\n",
    "1. **Set up a Jupyter Notebook environment locally, and use `git` to clone our course repository.** For instructions on how to do this, see the [**Tech Support**](https://eecs245.org/tech-support) page of the course website.\n",
    "\n",
    "To receive credit for the lab, you'll need to submit your notebook with all TODO tasks completed to Gradescope and show your TA that all test cases have passed before the end of the lab session. Instructions on how to do this are at the bottom of the notebook."
   ]
  },
  {
   "cell_type": "markdown",
   "id": "8bf909c5",
   "metadata": {
    "slideshow": {
     "slide_type": "slide"
    }
   },
   "source": [
    "## Arrays\n",
    "\n",
    "---\n",
    "\n",
    "We use `import` statements to add the objects (values, functions, classes) defined in other modules to our programs. There are a few different ways to `import`.\n"
   ]
  },
  {
   "cell_type": "markdown",
   "id": "a07d2f4b",
   "metadata": {
    "slideshow": {
     "slide_type": "fragment"
    }
   },
   "source": [
    "- **Option 1**: `import module`.\n",
    "<br><small>Now, everytime we want to use a name in `module`, we must write `module.<name>`.</small>"
   ]
  },
  {
   "cell_type": "code",
   "execution_count": null,
   "id": "dba803a9",
   "metadata": {},
   "outputs": [],
   "source": [
    "import math"
   ]
  },
  {
   "cell_type": "code",
   "execution_count": null,
   "id": "3d901515",
   "metadata": {},
   "outputs": [],
   "source": [
    "math.sqrt(15)"
   ]
  },
  {
   "cell_type": "code",
   "execution_count": null,
   "id": "21c5241f",
   "metadata": {},
   "outputs": [],
   "source": [
    "sqrt(15) # Errors!"
   ]
  },
  {
   "cell_type": "markdown",
   "id": "555a5e01",
   "metadata": {
    "slideshow": {
     "slide_type": "fragment"
    }
   },
   "source": [
    "- **Option 2**: `import module as m`.\n",
    "<br>Now, everytime we want to use a name in `module`, we can write `m.<name>` instead of `module.<name>`."
   ]
  },
  {
   "cell_type": "code",
   "execution_count": null,
   "id": "01ed44ac",
   "metadata": {},
   "outputs": [],
   "source": [
    "# This is the standard way that we will import numpy.\n",
    "import numpy as np"
   ]
  },
  {
   "cell_type": "code",
   "execution_count": null,
   "id": "1e9c3f88",
   "metadata": {},
   "outputs": [],
   "source": [
    "np.pi"
   ]
  },
  {
   "cell_type": "code",
   "execution_count": null,
   "id": "5e26dcce",
   "metadata": {},
   "outputs": [],
   "source": [
    "# What does this do? We'll learn in a few weeks!\n",
    "np.linalg.inv([[2, 1], \n",
    "               [3, 4]])"
   ]
  },
  {
   "cell_type": "markdown",
   "id": "f99d4f65",
   "metadata": {
    "slideshow": {
     "slide_type": "fragment"
    }
   },
   "source": [
    "- **Option 3**: `from module import ...`.\n",
    "<br><small>This way, we explicitly state the names we want to import from `module`.<br>To import everything, write `from module import *`.</br>"
   ]
  },
  {
   "cell_type": "code",
   "execution_count": null,
   "id": "627f38ed",
   "metadata": {},
   "outputs": [],
   "source": [
    "# Importing a particular function from the requests module.\n",
    "from requests import get"
   ]
  },
  {
   "cell_type": "code",
   "execution_count": null,
   "id": "5bfd28b1",
   "metadata": {},
   "outputs": [],
   "source": [
    "# This typically fills up the namespace with a lot of unnecessary names, so use sparingly.\n",
    "from math import *"
   ]
  },
  {
   "cell_type": "code",
   "execution_count": null,
   "id": "72b5dca3",
   "metadata": {},
   "outputs": [],
   "source": [
    "sqrt"
   ]
  },
  {
   "cell_type": "markdown",
   "id": "891a08c2",
   "metadata": {
    "slideshow": {
     "slide_type": "slide"
    }
   },
   "source": [
    "### NumPy\n",
    "\n",
    "<center>\n",
    "<img src='imgs/numpy.png' width=300>\n",
    "</center>"
   ]
  },
  {
   "cell_type": "markdown",
   "id": "357d759d",
   "metadata": {
    "slideshow": {
     "slide_type": "fragment"
    }
   },
   "source": [
    "NumPy (pronounced \"num pie\") is a Python library (module) that provides support for **arrays** and operations on them.\n",
    "\n",
    "The `pandas` library, which we will sometimes use to work with data in tables, works in conjunction with `numpy`.\n",
    "\n",
    "To use `numpy`, we need to import it. It's usually imported as `np` (but doesn't have to be!). We also had to install it on your computer first, but you already did that when you set up your environment."
   ]
  },
  {
   "cell_type": "code",
   "execution_count": null,
   "id": "8337d92a",
   "metadata": {},
   "outputs": [],
   "source": [
    "import numpy as np"
   ]
  },
  {
   "cell_type": "markdown",
   "id": "31dda7c1",
   "metadata": {
    "slideshow": {
     "slide_type": "slide"
    }
   },
   "source": [
    "### Arrays"
   ]
  },
  {
   "cell_type": "markdown",
   "id": "33e020bb",
   "metadata": {
    "slideshow": {
     "slide_type": "fragment"
    }
   },
   "source": [
    "The core data structure in `numpy` is the array. Moving forward, \"array\" will always refer to a `numpy` array.\n",
    "\n",
    "One way to instantiate an array is to pass a list as an argument to the function `np.array`."
   ]
  },
  {
   "cell_type": "code",
   "execution_count": null,
   "id": "aa599bd9",
   "metadata": {},
   "outputs": [],
   "source": [
    "np.array([4, 9, 1, 2])"
   ]
  },
  {
   "cell_type": "markdown",
   "id": "2e1d59f5",
   "metadata": {
    "slideshow": {
     "slide_type": "fragment"
    }
   },
   "source": [
    "- Arrays, unlike lists, must be **homogenous** – all elements must be of the same type."
   ]
  },
  {
   "cell_type": "code",
   "execution_count": null,
   "id": "2ad32f05",
   "metadata": {},
   "outputs": [],
   "source": [
    "# All elements are converted to strings!\n",
    "np.array([1961, 'michigan'])"
   ]
  },
  {
   "cell_type": "markdown",
   "id": "13dc8392",
   "metadata": {
    "slideshow": {
     "slide_type": "slide"
    }
   },
   "source": [
    "### Array-number arithmetic\n",
    "\n",
    "Arrays make it easy to perform the same operation to every element **without a `for`-loop**.\n",
    "\n",
    "This behavior is formally known as **broadcasting**. We also often say these operations are **vectorized**.\n",
    "\n",
    "<center><img src=\"imgs/broadcasting.jpg\" width=800></center>"
   ]
  },
  {
   "cell_type": "code",
   "execution_count": null,
   "id": "fc424f6e",
   "metadata": {},
   "outputs": [],
   "source": [
    "temps = [68, 72, 65, 64, 62, 61, 59, 64, 64, 63, 65, 62]\n",
    "temps"
   ]
  },
  {
   "cell_type": "code",
   "execution_count": null,
   "id": "69991473",
   "metadata": {},
   "outputs": [],
   "source": [
    "temp_array = np.array(temps)"
   ]
  },
  {
   "cell_type": "code",
   "execution_count": null,
   "id": "21041965",
   "metadata": {},
   "outputs": [],
   "source": [
    "# Increase all temperatures by 3 degrees.\n",
    "temp_array + 3"
   ]
  },
  {
   "cell_type": "code",
   "execution_count": null,
   "id": "baaa9cc5",
   "metadata": {},
   "outputs": [],
   "source": [
    "# Halve all temperatures.\n",
    "temp_array / 2"
   ]
  },
  {
   "cell_type": "code",
   "execution_count": null,
   "id": "899b896b",
   "metadata": {},
   "outputs": [],
   "source": [
    "# Convert all temperatures to Celsius.\n",
    "(5 / 9) * (temp_array - 32)"
   ]
  },
  {
   "cell_type": "markdown",
   "id": "7cc67f88",
   "metadata": {
    "slideshow": {
     "slide_type": "fragment"
    }
   },
   "source": [
    "**Note**: In none of the above cells did we actually modify `temp_array`! Each of those expressions created a new array. To actually change `temp_array`, we need to reassign it to a new array."
   ]
  },
  {
   "cell_type": "code",
   "execution_count": null,
   "id": "f288cf77",
   "metadata": {},
   "outputs": [],
   "source": [
    "temp_array"
   ]
  },
  {
   "cell_type": "code",
   "execution_count": null,
   "id": "e761595d",
   "metadata": {},
   "outputs": [],
   "source": [
    "temp_array = (5 / 9) * (temp_array - 32) # Only run this once!"
   ]
  },
  {
   "cell_type": "code",
   "execution_count": null,
   "id": "082bf02d",
   "metadata": {},
   "outputs": [],
   "source": [
    "# Now in Celsius!\n",
    "temp_array"
   ]
  },
  {
   "cell_type": "markdown",
   "id": "68e42cad",
   "metadata": {
    "slideshow": {
     "slide_type": "slide"
    }
   },
   "source": [
    "### ⚠️ The dangers of unnecessary `for`-loops\n",
    "\n",
    "Under the hood, `numpy` is implemented in C and Fortran, which are compiled languages that are much faster than Python. As a result, these **vectorized** operations are much quicker than if we used a vanilla Python `for`-loop.\n",
    "\n",
    "We can time code in a Jupyter Notebook. Let's try and square a long sequence of integers and see how long it takes with a Python loop:"
   ]
  },
  {
   "cell_type": "code",
   "execution_count": null,
   "id": "e8f4abd4",
   "metadata": {},
   "outputs": [],
   "source": [
    "%%timeit\n",
    "squares = []\n",
    "for i in range(1_000_000):\n",
    "    squares.append(i * i)"
   ]
  },
  {
   "cell_type": "markdown",
   "id": "e8e03c57",
   "metadata": {
    "slideshow": {
     "slide_type": "fragment"
    }
   },
   "source": [
    "In vanilla Python, this takes about 0.03 seconds per loop.<br><br>In `numpy`:"
   ]
  },
  {
   "cell_type": "code",
   "execution_count": null,
   "id": "795758c6",
   "metadata": {},
   "outputs": [],
   "source": [
    "%%timeit\n",
    "squares = np.arange(1_000_000) ** 2"
   ]
  },
  {
   "cell_type": "markdown",
   "id": "14a085e5",
   "metadata": {
    "slideshow": {
     "slide_type": "fragment"
    }
   },
   "source": [
    "Only takes about 0.0008 seconds per loop, approximately 40x faster! (These numbers will likely be different on your computer or DataHub, but you'll see the second technique is much, much quicker.)"
   ]
  },
  {
   "cell_type": "markdown",
   "id": "e61712c6",
   "metadata": {
    "slideshow": {
     "slide_type": "slide"
    }
   },
   "source": [
    "### Element-wise arithmetic\n",
    "\n",
    "We can apply arithmetic operations to multiple arrays, provided they have the same length.\n",
    "\n",
    "The result is computed **element-wise**, which means that the arithmetic operation is applied to one pair of elements from each array at a time.\n",
    "\n",
    "<center><img src=\"imgs/elementwise.jpg\" width=900></center>"
   ]
  },
  {
   "cell_type": "code",
   "execution_count": null,
   "id": "53f1df61",
   "metadata": {},
   "outputs": [],
   "source": [
    "a = np.array([4, 5, -1])\n",
    "b = np.array([2, 3, 2])"
   ]
  },
  {
   "cell_type": "code",
   "execution_count": null,
   "id": "cf8bd99e",
   "metadata": {},
   "outputs": [],
   "source": [
    "a + b"
   ]
  },
  {
   "cell_type": "code",
   "execution_count": null,
   "id": "5943d3a0",
   "metadata": {},
   "outputs": [],
   "source": [
    "a / b"
   ]
  },
  {
   "cell_type": "code",
   "execution_count": null,
   "id": "f696bebd",
   "metadata": {},
   "outputs": [],
   "source": [
    "a ** 2 + b ** 2"
   ]
  },
  {
   "cell_type": "code",
   "execution_count": null,
   "id": "47666009",
   "metadata": {},
   "outputs": [],
   "source": [
    "# Broadcasting implicitly replaces the 3 with np.array([3, 3, 3]),\n",
    "# so that the shapes match up.\n",
    "a + 3"
   ]
  },
  {
   "cell_type": "markdown",
   "id": "a4af352f",
   "metadata": {
    "slideshow": {
     "slide_type": "slide"
    }
   },
   "source": [
    "### Array methods\n",
    "\n",
    "Arrays come equipped with several handy methods; some examples are below, but you can read about them all [here](https://numpy.org/doc/stable/reference/generated/numpy.ndarray.html)."
   ]
  },
  {
   "cell_type": "code",
   "execution_count": null,
   "id": "376f8fc7",
   "metadata": {},
   "outputs": [],
   "source": [
    "arr = np.array([3, 8, 4, -3.2])"
   ]
  },
  {
   "cell_type": "code",
   "execution_count": null,
   "id": "bd30c64d",
   "metadata": {},
   "outputs": [],
   "source": [
    "(2 ** arr).sum()"
   ]
  },
  {
   "cell_type": "code",
   "execution_count": null,
   "id": "1166817c",
   "metadata": {},
   "outputs": [],
   "source": [
    "(2 ** arr).mean()"
   ]
  },
  {
   "cell_type": "code",
   "execution_count": null,
   "id": "b957cc74",
   "metadata": {},
   "outputs": [],
   "source": [
    "(2 ** arr).max()"
   ]
  },
  {
   "cell_type": "code",
   "execution_count": null,
   "id": "a38c4a60",
   "metadata": {
    "scrolled": true
   },
   "outputs": [],
   "source": [
    "(2 ** arr).argmax()"
   ]
  },
  {
   "cell_type": "code",
   "execution_count": null,
   "id": "8dd533d2",
   "metadata": {},
   "outputs": [],
   "source": [
    "# An attribute, not a method.\n",
    "arr.shape"
   ]
  },
  {
   "cell_type": "markdown",
   "id": "673ed480",
   "metadata": {},
   "source": [
    "<div class=\"alert alert-info\" markdown=\"1\">\n",
    "\n",
    "### Task 1\n",
    "\n",
    "</div>\n",
    "\n",
    "\n",
    "Congrats – you won the lottery! 🎉 \n",
    "\n",
    "Here's how your payout works: on the first day of September, you are paid \\\\$0.01. Every day thereafter, your pay doubles, so on the second day you're paid \\\\$0.02, on the third day you're paid \\\\$0.04, on the fourth day you're paid \\\\$0.08, and so on.\n",
    "\n",
    "September has 30 days.\n",
    "\n",
    "Assign `total_winnings`\n",
    "\n",
    "Write a **one-line expression** that uses the numbers `2` and `30`, along with the function `np.arange` and at least one array method, that computes the total amount **in dollars** you will be paid in September.\n",
    "\n",
    "No loops allowed – before answering, experiment with how `np.arange` works.\n",
    "    \n",
    "_Hint: We have a [🎥 walkthrough video](https://youtu.be/w_witptT6Ts?si=1g42U-wIITfuax_a) of this problem, but don't watch it until you're stuck!_"
   ]
  },
  {
   "cell_type": "code",
   "execution_count": null,
   "id": "0ca11445",
   "metadata": {
    "tags": []
   },
   "outputs": [],
   "source": [
    "total_winnings = ..."
   ]
  },
  {
   "cell_type": "code",
   "execution_count": null,
   "id": "05498715",
   "metadata": {
    "deletable": false,
    "editable": false
   },
   "outputs": [],
   "source": [
    "grader.check(\"task01\")"
   ]
  },
  {
   "cell_type": "markdown",
   "id": "aab00780",
   "metadata": {},
   "source": [
    "<div class=\"alert alert-info\" markdown=\"1\">\n",
    "\n",
    "### Task 2\n",
    "\n",
    "</div>\n",
    "\n",
    "In Activity 1 of the lab, you derived the formula for the harmonic mean of a collection of numbers, $y_1, y_2, ..., y_n$. You were first exposed to the harmonic mean in last week's lab, when you discovered that it's used for finding the average of several rates of change (e.g. speeds).\n",
    "\n",
    "$$\\text{harmonic mean}(y_1, y_2, \\ldots, y_n) = \\frac{n}{\\sum_{i = 1}^n \\frac{1}{y_i}}$$\n",
    "\n",
    "Complete the implementation of the function `harmonic_mean`, which takes in **an array of positive numbers** and returns their harmonic mean. Assume that the array is non-empty and correctly formatted. Example behavior is given below.\n",
    "\n",
    "```python\n",
    ">>> harmonic_mean(np.array([1, 2, 3]))\n",
    "1.6363636363636365\n",
    "\n",
    ">>> harmonic_mean(np.array([3, 10]))\n",
    "4.615384615384615\n",
    "```\n",
    "\n",
    "Your solution should only be one line, and shouldn't involve any loops."
   ]
  },
  {
   "cell_type": "code",
   "execution_count": null,
   "id": "af4c935e",
   "metadata": {
    "tags": []
   },
   "outputs": [],
   "source": [
    "def harmonic_mean(vals):\n",
    "    ...\n",
    "    \n",
    "# Feel free to change this input to make sure your function works correctly.\n",
    "harmonic_mean(np.array([1, 2, 3]))"
   ]
  },
  {
   "cell_type": "code",
   "execution_count": null,
   "id": "b25a2eb1",
   "metadata": {
    "deletable": false,
    "editable": false
   },
   "outputs": [],
   "source": [
    "grader.check(\"task02\")"
   ]
  },
  {
   "cell_type": "markdown",
   "id": "93221671",
   "metadata": {},
   "source": [
    "## Simple Linear Regression\n",
    "\n",
    "---\n",
    "\n",
    "As we'll see in Chapter 1.4 (and tomorrow's lecture), the formulas for the optimal slope, $w_1^*$, and optimal intercept, $w_0^*$, that minimize mean squared error for the simple linear regression model, $h(x_i) = w_0 + w_1 x_i$, are:\n",
    "\n",
    "$$w_1^* = \\frac{\\sum_{i = 1}^n (x_i - \\bar{x})(y_i - \\bar{y})}{\\sum_{i = 1}^n (x_i - \\bar{x})^2}, \\qquad w_0^* = \\bar{y} - w_1^* \\bar{x}$$\n",
    "\n",
    "Let's load in the commute times dataset from lecture and implement these formulas to see how they work. Run the cell below."
   ]
  },
  {
   "cell_type": "code",
   "execution_count": null,
   "id": "7ca084ac",
   "metadata": {},
   "outputs": [],
   "source": [
    "import pandas as pd\n",
    "commutes = pd.read_csv('data/commute-times.csv')\n",
    "commutes"
   ]
  },
  {
   "cell_type": "markdown",
   "id": "90c8e8ea",
   "metadata": {},
   "source": [
    "The true dataset above has several columns, but for now, we only care about the following two."
   ]
  },
  {
   "cell_type": "code",
   "execution_count": null,
   "id": "b34bd233",
   "metadata": {},
   "outputs": [],
   "source": [
    "commutes[['departure_hour', 'minutes']]"
   ]
  },
  {
   "cell_type": "code",
   "execution_count": null,
   "id": "6f163c2c",
   "metadata": {},
   "outputs": [],
   "source": [
    "# Run this cell to visualize the data.\n",
    "# Don't worry about how the plotting code works for now;\n",
    "# most of it handles formatting.\n",
    "\n",
    "import plotly.express as px\n",
    "\n",
    "fig = px.scatter(\n",
    "    commutes,\n",
    "    x='departure_hour',\n",
    "    y='minutes',\n",
    "    size=np.ones(len(commutes)) * 50,\n",
    "    size_max=8\n",
    ")\n",
    "\n",
    "fig.update_xaxes(\n",
    "    title='Home Departure Time (AM)',\n",
    "    gridcolor='#f0f0f0',\n",
    "    showline=True,\n",
    "    linecolor=\"black\",\n",
    "    linewidth=1,\n",
    ")\n",
    "fig.update_yaxes(\n",
    "    title='Commute Time (Minutes)',\n",
    "    gridcolor='#f0f0f0',\n",
    "    showline=True,\n",
    "    linecolor=\"black\",\n",
    "    linewidth=1,\n",
    ")\n",
    "fig.update_traces(marker_color=\"#3D81F6\", marker_line_width=0)\n",
    "fig.update_layout(\n",
    "    plot_bgcolor='white',\n",
    "    paper_bgcolor='white',\n",
    "    margin=dict(l=60, r=60, t=60, b=60),\n",
    "    width=700,\n",
    "    font=dict(\n",
    "        family=\"Palatino Linotype, Palatino, serif\",\n",
    "        color=\"black\"\n",
    "    )\n",
    ")\n",
    "\n",
    "fig.show(renderer='notebook')"
   ]
  },
  {
   "cell_type": "markdown",
   "id": "a065275e",
   "metadata": {},
   "source": [
    "The first column, `departure_hour`, is our $x$ variable, while `minutes` is our $y$ variable. Below, we save both columns as arrays."
   ]
  },
  {
   "cell_type": "code",
   "execution_count": null,
   "id": "429490fa",
   "metadata": {},
   "outputs": [],
   "source": [
    "commutes_x = commutes['departure_hour'].to_numpy()\n",
    "commutes_y = commutes['minutes'].to_numpy()"
   ]
  },
  {
   "cell_type": "code",
   "execution_count": null,
   "id": "8bd1c15c",
   "metadata": {},
   "outputs": [],
   "source": [
    "commutes_x"
   ]
  },
  {
   "cell_type": "markdown",
   "id": "cdb8b9a2",
   "metadata": {},
   "source": [
    "<div class=\"alert alert-info\" markdown=\"1\">\n",
    "\n",
    "### Task 3\n",
    "\n",
    "</div>\n",
    "\n",
    "Complete the implementations of the functions `optimal_slope` and `optimal_intercept`. Both functions should take in two arrays, `x` and `y`, and should return the corresponding optimal parameter. Example behavior is given below.\n",
    "\n",
    "```python\n",
    ">>> optimal_slope(commutes_x, commutes_y)\n",
    "-8.186941724265552\n",
    "\n",
    ">>> optimal_intercept(commutes_x, commutes_y)\n",
    "142.4482415877287\n",
    "\n",
    ">>> optimal_slope(np.array([1, 2, 3]), np.array([3, 6, 9]))\n",
    "3.0\n",
    "\n",
    ">>> optimal_intercept(np.array([1, 2, 3]), np.array([3, 6, 9]))\n",
    "0.0\n",
    "```\n",
    "\n",
    "For your convenience, the formulas for the optimal slope, $w_1^*$, and optimal intercept, $w_0^*$, are given below.\n",
    "\n",
    "$$w_1^* = \\frac{\\sum_{i = 1}^n (x_i - \\bar{x})(y_i - \\bar{y})}{\\sum_{i = 1}^n (x_i - \\bar{x})^2}, \\qquad w_0^* = \\bar{y} - w_1^* \\bar{x}$$\n",
    "\n",
    "As before, no looping allowed! You will need to piece together several array operations to compute the optimal slope; approach your answer one step at a time."
   ]
  },
  {
   "cell_type": "code",
   "execution_count": null,
   "id": "922337a3",
   "metadata": {
    "tags": []
   },
   "outputs": [],
   "source": [
    "def optimal_slope(x, y):\n",
    "    ...\n",
    "    \n",
    "def optimal_intercept(x, y):\n",
    "    ...\n",
    "    \n",
    "# Feel free to change these inputs to make sure your functions work correctly.\n",
    "optimal_slope(commutes_x, commutes_y)"
   ]
  },
  {
   "cell_type": "code",
   "execution_count": null,
   "id": "bfd48c99",
   "metadata": {
    "deletable": false,
    "editable": false
   },
   "outputs": [],
   "source": [
    "grader.check(\"task03\")"
   ]
  },
  {
   "cell_type": "markdown",
   "id": "d604f803",
   "metadata": {},
   "source": [
    "If you completed Task 3 correctly, you should see the line with the optimal intercept and slope for the commutes time data below. If the line doesn't look quite right, re-check your work in Task 3."
   ]
  },
  {
   "cell_type": "code",
   "execution_count": null,
   "id": "4c07951d",
   "metadata": {},
   "outputs": [],
   "source": [
    "def data_and_line(x, y):\n",
    "    '''\n",
    "    Draws a scatter plot of (x[0], y[0]), (x[1], y[1]), ..., (x[n-1], y[n-1])\n",
    "    along with the optimal simple linear regression line.\n",
    "    '''\n",
    "    fig = px.scatter(\n",
    "        x=x,\n",
    "        y=y,\n",
    "        size=np.ones(len(x)) * 50,\n",
    "        size_max=8\n",
    "    )\n",
    "\n",
    "    fig.update_xaxes(\n",
    "        title='Home Departure Time (AM)',\n",
    "        gridcolor='#f0f0f0',\n",
    "        showline=True,\n",
    "        linecolor=\"black\",\n",
    "        linewidth=1,\n",
    "    )\n",
    "    fig.update_yaxes(\n",
    "        title='Commute Time (Minutes)',\n",
    "        gridcolor='#f0f0f0',\n",
    "        showline=True,\n",
    "        linecolor=\"black\",\n",
    "        linewidth=1,\n",
    "    )\n",
    "    fig.update_traces(marker_color=\"#3D81F6\", marker_line_width=0)\n",
    "    fig.update_layout(\n",
    "        plot_bgcolor='white',\n",
    "        paper_bgcolor='white',\n",
    "        margin=dict(l=60, r=60, t=60, b=60),\n",
    "        width=700,\n",
    "        font=dict(\n",
    "            family=\"Palatino Linotype, Palatino, serif\",\n",
    "            color=\"black\"\n",
    "        ),\n",
    "        xaxis_range=[5.5, 11.5],\n",
    "        yaxis_range=[45, 140]\n",
    "    )\n",
    "\n",
    "    w1_star, w0_star = optimal_slope(x, y), optimal_intercept(x, y)\n",
    "\n",
    "    fig.add_traces(\n",
    "        px.line(\n",
    "            x=np.linspace(6, 11),\n",
    "            y=w0_star + w1_star * np.linspace(6, 11)\n",
    "        ).data\n",
    "    )\n",
    "\n",
    "    fig.update_traces(line_color='orange', line_width=4, selector=dict(mode='lines'))\n",
    "\n",
    "    fig.show(renderer='notebook')\n",
    "    \n",
    "data_and_line(commutes_x, commutes_y)"
   ]
  },
  {
   "cell_type": "markdown",
   "id": "0d7485af",
   "metadata": {},
   "source": [
    "As you work through Activity 5 on the worksheet, feel free to use the functions `optimal_slope`, `optimal_intercept`, and `data_and_line` to validate your guesses."
   ]
  },
  {
   "cell_type": "code",
   "execution_count": null,
   "id": "314bf711",
   "metadata": {},
   "outputs": [],
   "source": [
    "# If we double each x-coordinate, and add 100 to each y-coordinate, what happens to the slope? Why?\n",
    "optimal_slope(2 * commutes_x, commutes_y + 100)"
   ]
  },
  {
   "cell_type": "markdown",
   "id": "b5bb0ac8",
   "metadata": {},
   "source": [
    "Finally, we'll comment that it's rare to implement such formulas by hand. Instead, a more common approach is to use a package like `sklearn`, which has implementations of lots of common machine learning models, including (but not limited to) linear regression.\n",
    "\n",
    "All machine learning models in `sklearn` work using the same four basic steps."
   ]
  },
  {
   "cell_type": "markdown",
   "id": "e72c69b8",
   "metadata": {
    "slideshow": {
     "slide_type": "fragment"
    }
   },
   "source": [
    "1. Import the relevant class."
   ]
  },
  {
   "cell_type": "code",
   "execution_count": null,
   "id": "3cf81cf2",
   "metadata": {},
   "outputs": [],
   "source": [
    "from sklearn.linear_model import LinearRegression"
   ]
  },
  {
   "cell_type": "markdown",
   "id": "7ffb426f",
   "metadata": {
    "slideshow": {
     "slide_type": "fragment"
    }
   },
   "source": [
    "2. Instantiate an object from that class."
   ]
  },
  {
   "cell_type": "code",
   "execution_count": null,
   "id": "6c26344a",
   "metadata": {},
   "outputs": [],
   "source": [
    "model = LinearRegression()"
   ]
  },
  {
   "cell_type": "markdown",
   "id": "d5bcd233",
   "metadata": {
    "slideshow": {
     "slide_type": "fragment"
    }
   },
   "source": [
    "3. Fit the model. In other words, this is saying \"go minimize mean squared error\".<br><small>The <code>.reshape(-1, 1)</code> reformats <code>commutes_x</code> into a 2D array, which <code>sklearn</code> expects as the first argument to <code>fit</code>, since theoretically we could have multiple input variables.</small>"
   ]
  },
  {
   "cell_type": "code",
   "execution_count": null,
   "id": "db053a8f",
   "metadata": {},
   "outputs": [],
   "source": [
    "model.fit(commutes_x.reshape(-1, 1), commutes_y)"
   ]
  },
  {
   "cell_type": "markdown",
   "id": "0ccb360f",
   "metadata": {},
   "source": [
    "4. Make predictions, and optionally, look at the optimal parameters."
   ]
  },
  {
   "cell_type": "code",
   "execution_count": null,
   "id": "7078aa63",
   "metadata": {},
   "outputs": [],
   "source": [
    "# Predicted commute time if we leave at 8:30AM.\n",
    "model.predict([[8.5]])"
   ]
  },
  {
   "cell_type": "code",
   "execution_count": null,
   "id": "a8c6e452",
   "metadata": {},
   "outputs": [],
   "source": [
    "model.intercept_, model.coef_[0]"
   ]
  },
  {
   "cell_type": "code",
   "execution_count": null,
   "id": "1c0ce3bf",
   "metadata": {},
   "outputs": [],
   "source": [
    "# Same as us!\n",
    "optimal_intercept(commutes_x, commutes_y), optimal_slope(commutes_x, commutes_y)"
   ]
  },
  {
   "cell_type": "markdown",
   "id": "fbb31c2f",
   "metadata": {},
   "source": [
    "Notice that `sklearn` found the same optimal slope and optimal intercept as we did! That's because under the hood, `sklearn` is following the same three-step modeling recipe that we discussed in lecture. It also minimizes mean squared error. [The documentation](https://scikit-learn.org/stable/modules/generated/sklearn.linear_model.LinearRegression.html) tells us this!\n",
    "\n",
    "> LinearRegression fits a linear model with coefficients w = (w1, …, wp) to minimize the residual **sum of squares** between the observed targets in the dataset, and the targets predicted by the linear approximation.\n",
    "\n",
    "We'll use `sklearn` more heavily in a few weeks, when we return to multiple linear regression. For now, it's just worth pointing out that it follows the same math that we have been following."
   ]
  },
  {
   "cell_type": "markdown",
   "id": "0802d75a",
   "metadata": {},
   "source": [
    "## Finish Line 🏁\n",
    "\n",
    "Congratulations! You're ready to submit the programming portion of Lab 2.\n",
    "\n",
    "To submit your work to Gradescope:\n",
    "\n",
    "1. Select `Kernel -> Restart & Run All` to ensure that you have executed all cells, including the test cells.\n",
    "2. Read through the notebook to make sure everything is fine and all public tests passed.\n",
    "3. Run the cell below to run all tests, and make sure that they all pass.\n",
    "4. Download your notebook using `File -> Download`, then upload your notebook to Gradescope under \"Lab 2\".\n",
    "5. Stick around for a few minutes while the Gradescope autograder grades your work. Make sure you see that all **public tests** have passed on Gradescope."
   ]
  }
 ],
 "metadata": {
  "kernelspec": {
   "display_name": "Python 3 (ipykernel)",
   "language": "python",
   "name": "python3"
  },
  "language_info": {
   "codemirror_mode": {
    "name": "ipython",
    "version": 3
   },
   "file_extension": ".py",
   "mimetype": "text/x-python",
   "name": "python",
   "nbconvert_exporter": "python",
   "pygments_lexer": "ipython3",
   "version": "3.10.18"
  },
  "otter": {
   "tests": {
    "task01": {
     "name": "task01",
     "points": null,
     "suites": [
      {
       "cases": [
        {
         "code": ">>> isinstance(total_winnings, float) or isinstance(total_winnings, np.float64)\nTrue",
         "hidden": false,
         "locked": false
        },
        {
         "code": ">>> total_winnings < 11_000_000\nTrue",
         "failure_message": "Make sure your answer is in dollars, not cents!",
         "hidden": false,
         "locked": false
        },
        {
         "code": ">>> np.isclose(total_winnings, 10737418.23)\nTrue",
         "hidden": false,
         "locked": false
        }
       ],
       "scored": true,
       "setup": "",
       "teardown": "",
       "type": "doctest"
      }
     ]
    },
    "task02": {
     "name": "task02",
     "points": null,
     "suites": [
      {
       "cases": [
        {
         "code": ">>> isinstance(harmonic_mean(np.array([1, 2, 3])), float) or isinstance(harmonic_mean(np.array([1, 2, 3])), np.float64)\nTrue",
         "hidden": false,
         "locked": false
        },
        {
         "code": ">>> np.isclose(harmonic_mean(np.array([1, 2, 3])), 1.6363636363636365)\nTrue",
         "hidden": false,
         "locked": false
        },
        {
         "code": ">>> np.isclose(harmonic_mean(np.array([3, 10])), 4.615384615384615)\nTrue",
         "hidden": false,
         "locked": false
        },
        {
         "code": ">>> np.isclose(harmonic_mean(np.array([12] * 10)), 12)\nTrue",
         "hidden": false,
         "locked": false
        },
        {
         "code": ">>> np.isclose(harmonic_mean(np.arange(1, 50)), 10.93944043616343)\nTrue",
         "hidden": false,
         "locked": false
        }
       ],
       "scored": true,
       "setup": "",
       "teardown": "",
       "type": "doctest"
      }
     ]
    },
    "task03": {
     "name": "task03",
     "points": null,
     "suites": [
      {
       "cases": [
        {
         "code": ">>> np.isclose(optimal_slope(commutes_x, commutes_y), -8.186941724265552)\nTrue",
         "hidden": false,
         "locked": false
        },
        {
         "code": ">>> np.isclose(optimal_intercept(commutes_x, commutes_y), 142.4482415877287)\nTrue",
         "hidden": false,
         "locked": false
        },
        {
         "code": ">>> np.isclose(optimal_slope(np.array([1, 2, 3]), np.array([3, 6, 9])), 3)\nTrue",
         "hidden": false,
         "locked": false
        },
        {
         "code": ">>> np.isclose(optimal_intercept(np.array([1, 2, 3]), np.array([3, 6, 9])), 0)\nTrue",
         "hidden": false,
         "locked": false
        },
        {
         "code": ">>> np.isclose(optimal_slope(np.array([5, 1, -6, 4, 3, 3, 8]), np.arange(7)), 0.19346733668341706)\nTrue",
         "hidden": false,
         "locked": false
        },
        {
         "code": ">>> np.isclose(optimal_intercept(np.array([5, 1, -6, 4, 3, 3, 8]), np.arange(7)), 2.5025125628140703)\nTrue",
         "hidden": false,
         "locked": false
        }
       ],
       "scored": true,
       "setup": "",
       "teardown": "",
       "type": "doctest"
      }
     ]
    }
   }
  }
 },
 "nbformat": 4,
 "nbformat_minor": 5
}
