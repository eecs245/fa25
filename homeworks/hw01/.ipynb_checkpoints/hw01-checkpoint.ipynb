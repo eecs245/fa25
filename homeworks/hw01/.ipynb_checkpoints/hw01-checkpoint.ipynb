{
 "cells": [
  {
   "cell_type": "code",
   "execution_count": null,
   "id": "20c5ff6a",
   "metadata": {
    "deletable": false,
    "editable": false
   },
   "outputs": [],
   "source": [
    "# Initialize Otter\n",
    "import otter\n",
    "grader = otter.Notebook(\"hw01.ipynb\")"
   ]
  },
  {
   "cell_type": "markdown",
   "id": "ab62a3d9",
   "metadata": {},
   "source": [
    "<div class=\"alert alert-success\">\n",
    "\n",
    "#### Homework 1 Supplemental Notebook\n",
    "    \n",
    "# Means, Sums, and Calculus\n",
    "\n",
    "### EECS 245, Fall 2025 at the University of Michigan\n",
    "    \n",
    "</div>\n",
    "\n",
    "### Instructions\n",
    "\n",
    "Most homeworks will have Jupyter Notebooks, like this one, designed to supplement the theoretical problems. \n",
    "\n",
    "To write and run code in this notebook, you have two options:\n",
    "\n",
    "1. **Use the EECS 245 DataHub.** To do this, click the link provided in the Homework 1 PDF. Before doing so, read the instructions on the [**Tech Support**](https://eecs245.org/tech-support/#option-1-using-the-eecs-245-datahub) page on how to use the DataHub.\n",
    "1. **Set up a Jupyter Notebook environment locally, and use `git` to clone our course repository.** For instructions on how to do this, see the [**Tech Support**](https://eecs245.org/tech-support) page of the course website.\n",
    "\n",
    "To receive credit for the programming portion of the homework, you'll need to submit your completed notebook to the autograder on Gradescope. Your submission time for Homework 1 is the **latter** of your PDF and code submission times.\n",
    "\n",
    "Remember that homework problems have hidden test cases. The public test cases in your notebook only verify that your answer is in the correct format and on the right track; your results on the hidden tests will be available to you on Gradescope after we release grades."
   ]
  },
  {
   "cell_type": "code",
   "execution_count": null,
   "id": "471ea8eb",
   "metadata": {},
   "outputs": [],
   "source": [
    "# Run this cell before proceeding; it's needed for the autograder to work.\n",
    "import numpy as np"
   ]
  },
  {
   "cell_type": "markdown",
   "id": "afe40f10",
   "metadata": {},
   "source": [
    "## Problem 6: Fun with Loops (8 pts)\n",
    "\n",
    "---\n",
    "\n",
    "In this problem, you'll work through a few separate tasks that involve writing loops in Python, both `for`-loops and `while`-loops.\n",
    "\n",
    "But first, for some context, since we didn't discuss loops in Lab 1. In Python, you can loop over any **iterable**. Strings, lists, and dictionaries are all examples of iterables.\n",
    "\n",
    "All of the following are valid ways to write a `for`-loop.<br>\n",
    "    \n",
    "```py\n",
    "            for value in \"this is a string\":\n",
    "\n",
    "            for element in lst:                  # Assume lst is a list.\n",
    "\n",
    "            for i in range(len(lst)):\n",
    "    \n",
    "```"
   ]
  },
  {
   "cell_type": "code",
   "execution_count": null,
   "id": "dce9059b",
   "metadata": {},
   "outputs": [],
   "source": [
    "sentence = ['the', 'university', 'of', 'michigan', 'at', 'ann', 'arbor']\n",
    "\n",
    "# word is 'the', then 'university', then 'of', ...\n",
    "for word in sentence:\n",
    "    print(word)"
   ]
  },
  {
   "cell_type": "code",
   "execution_count": null,
   "id": "bb61aadd",
   "metadata": {},
   "outputs": [],
   "source": [
    "# i is 0, then 1, then 2, ...\n",
    "# Depending on the problem, you may need to use the first pattern or this second pattern.\n",
    "for i in range(len(sentence)):\n",
    "    print(i, sentence[i])"
   ]
  },
  {
   "cell_type": "markdown",
   "id": "8e0b2dae",
   "metadata": {
    "slideshow": {
     "slide_type": "fragment"
    }
   },
   "source": [
    "One of the more common `for`-loop examples you may have seen in earlier classes involved performing some operation to every element of a sequence, e.g. doubling the numbers in a list.\n",
    "\n",
    "```py\n",
    "def double(vals):\n",
    "    new_vals = []\n",
    "    for val in vals:\n",
    "        new_vals.append(vals * 2)\n",
    "    return new_vals\n",
    "```\n",
    "\n",
    "**Warning**: We are going to **avoid ❌** these kinds of `for`-loops in this class, because there are **much faster** ways of achieving the same goal in `numpy`, as we'll learn about in Lab 2.\n",
    "\n",
    "`while`-loops exist too, but they'll come up sparingly in the context of machine learning."
   ]
  },
  {
   "cell_type": "markdown",
   "id": "ef6ae0c6",
   "metadata": {},
   "source": [
    "### Problem 6a) (2 pts)\n",
    "\n",
    "In math, the word \"alternating\" is sometimes used to indicate that the signs of the elements of a sequence oscillate, or \"bounce\", back and forth between positive and negative.\n",
    "\n",
    "Complete the implementation of the function `alternating_sign_mean`, which takes in a list of positive numbers, `values`, and computes the mean of **_every_ element** in the original list with **alternating signs**, starting with a positive sign for the element at position 0, a negative sign for the element at position 1, and so on. Example behavior is shown below.\n",
    "\n",
    "```python\n",
    ">>> alternating_sign_mean([3, 2, 9.5])\n",
    "3.5 # Comes from (3 + (-2) + 9.5) / 3.\n",
    "\n",
    ">>> alternating_sign_mean([3, 2.5, 7, 6.5])\n",
    "0.25 # Comes from (3 + (-2.5) + 7 + (-6.5)) / 4.\n",
    "```\n",
    "\n",
    "Note that you **should not** use any additional packages (e.g. `math`, `numpy`) in your solution – everything should be done using base Python."
   ]
  },
  {
   "cell_type": "code",
   "execution_count": null,
   "id": "3caf1d17",
   "metadata": {
    "tags": []
   },
   "outputs": [],
   "source": [
    "import numpy as np\n",
    "\n",
    "def alternating_sign_mean(values):\n",
    "    ...\n",
    "    \n",
    "# Feel free to change this input to make sure your function works correctly.\n",
    "alternating_sign_mean([3, 2, 9.5])"
   ]
  },
  {
   "cell_type": "code",
   "execution_count": null,
   "id": "48033a9f",
   "metadata": {
    "deletable": false,
    "editable": false
   },
   "outputs": [],
   "source": [
    "grader.check(\"p06_a\")"
   ]
  },
  {
   "cell_type": "markdown",
   "id": "64c59c70",
   "metadata": {},
   "source": [
    "### Problem 6b) (3 pts)\n",
    "\n",
    "Suppose we are waiters at a restaurant, and we keep track of the tips that we receive in a given night. Specifically, we store in a list the first names of our customers along with the tip that they gave, like so:\n",
    "\n",
    "```python\n",
    "[name_1, tip_1, name_2, tip_2, name_3, tip_3, ...]\n",
    "```\n",
    "\n",
    "Names are strings, while tips are non-negative numbers, either `int` or `float`.\n",
    "\n",
    "Complete the implementation of the function `big_tippers`, which takes in a list `tips` as described above and returns only the names of the customers who tipped **strictly more** than the average tip. Example behavior is given below.\n",
    "\n",
    "```python\n",
    ">>> tips = ['angela', 15, 'vincent', 9, 'pranavi', 19]\n",
    ">>> big_tippers(tips)\n",
    "['angela', 'pranavi']\n",
    "```\n",
    "\n",
    "In the example above, the average tip is $\\frac{15 + 9 + 19}{3} = 14.33$, and both `'angela'` and `'pranavi'` tipped more than that, so your function should return `['angela', 'pranavi']`.\n",
    "\n",
    "You may assume that `tips` is well-formed, i.e. has an even, positive number of entries, in the correct order. Also assume that customer names are unique, i.e. that there are no duplicate tippers.\n",
    "\n",
    "Note that you **should not** use any additional packages (e.g. `math`, `numpy`) in your solution – everything should be done using base Python."
   ]
  },
  {
   "cell_type": "code",
   "execution_count": null,
   "id": "aa00c6c3",
   "metadata": {
    "tags": []
   },
   "outputs": [],
   "source": [
    "def big_tippers(tips):\n",
    "    ...\n",
    "\n",
    "# Feel free to change this input to make sure your function works correctly.\n",
    "big_tippers(['angela', 15, 'vincent', 9, 'pranavi', 19])"
   ]
  },
  {
   "cell_type": "code",
   "execution_count": null,
   "id": "72f472a3",
   "metadata": {
    "deletable": false,
    "editable": false
   },
   "outputs": [],
   "source": [
    "grader.check(\"p06_b\")"
   ]
  },
  {
   "cell_type": "markdown",
   "id": "a42ff7b2",
   "metadata": {},
   "source": [
    "### Problem 6c) (1.5 pts)\n",
    "\n",
    "Suppose `vals` is a list of length $n-1$, containing the integers from 1 to $n$, inclusive, with no duplicates and in unsorted order, but with exactly 1 value missing. Complete the implementation of the function `missing_value_naive`, which takes in a list like `vals` and returns the number that is missing, as an `int`. Example behavior is given below.\n",
    "\n",
    "```py\n",
    ">>> missing_value_naive([2, 1, 5, 3])\n",
    "4\n",
    "\n",
    ">>> missing_value_naive([10, 9, 1, 6, 5, 7, 2, 4, 3])\n",
    "8\n",
    "```"
   ]
  },
  {
   "cell_type": "code",
   "execution_count": null,
   "id": "aa8627ee",
   "metadata": {
    "tags": []
   },
   "outputs": [],
   "source": [
    "def missing_value_naive(vals):\n",
    "    ...\n",
    "\n",
    "# Feel free to change this input to make sure your function works correctly.\n",
    "missing_value_naive([2, 1, 5, 3])"
   ]
  },
  {
   "cell_type": "code",
   "execution_count": null,
   "id": "3ac4688f",
   "metadata": {
    "deletable": false,
    "editable": false
   },
   "outputs": [],
   "source": [
    "grader.check(\"p06_c\")"
   ]
  },
  {
   "cell_type": "markdown",
   "id": "41eecd82",
   "metadata": {},
   "source": [
    "### Problem 6d) (1.5 pts)\n",
    "\n",
    "Your implementation of `missing_value_naive` in Problem 6c) didn't need to be particularly efficient, and you likely used a `for`-loop. A `for`-loop that involves a call to the `in` operator on each call results in an $O(n^2)$ implementation. (Don't worry if you're not familiar with $O$-notation – all this means is that the speed of your implementation grows very quickly as the length of the input list grows, which is not a good sign if we care about the efficiency of our code.)\n",
    "\n",
    "To make our solution to the missing value problem more efficient, we’ll use the fact that the missing value is the difference between the sum we’d expect if none of the values were missing, and the sum\n",
    "of the values we actually have. For example, if `vals = [1, 2, 5, 3]`, then $n = 5$, so the sum we’d\n",
    "expect is $1+2+3+4+5 = 15$, and so the missing value is $(1+2+3+4+5)−(1+2+5+3) = 15−11 = 4$.\n",
    "\n",
    "Conveniently, in Lab 1, we provided you with the following fact:\n",
    "\n",
    "$$\\sum_{i=1}^n i = 1 + 2 + \\ldots + n = \\frac{n(n+1)}{2}$$\n",
    "\n",
    "This means that to find the missing value, we can compute the difference between the sum if none were missing – using the formula above – and the sum of the values actually present. This will enable us to find the missing value with just a single pass over the list (to compute the sum of the present values), leading to an $O(n)$ solution.\n",
    "\n",
    "Complete the implementation of `missing_value_fast`, which uses the logic presented here to find the missing value in `vals`.\n",
    "\n",
    "- Make sure that `missing_value_fast`, like `missing_value_naive`, returns an `int`.\n",
    "\n",
    "- **Do not** use `sum(range(1, n+1))` in your implementation – your implementation can only use the `sum` function once."
   ]
  },
  {
   "cell_type": "code",
   "execution_count": null,
   "id": "e98c160c",
   "metadata": {
    "tags": []
   },
   "outputs": [],
   "source": [
    "def missing_value_fast(vals):\n",
    "    ...\n",
    "    \n",
    "# Feel free to change this input to make sure your function works correctly.\n",
    "missing_value_fast([2, 1, 5, 3])"
   ]
  },
  {
   "cell_type": "code",
   "execution_count": null,
   "id": "34bff1a3",
   "metadata": {
    "deletable": false,
    "editable": false
   },
   "outputs": [],
   "source": [
    "grader.check(\"p06_d\")"
   ]
  },
  {
   "cell_type": "markdown",
   "id": "be1263c2",
   "metadata": {},
   "source": [
    "To test whether your implementation of `missing_value_fast` is significantly faster than your implementation of `missing_value_naive`, we will use the function `relative_speed`, defined below."
   ]
  },
  {
   "cell_type": "code",
   "execution_count": null,
   "id": "d207270b",
   "metadata": {},
   "outputs": [],
   "source": [
    "import numpy as np\n",
    "import time\n",
    "def relative_speed(reps=100, n=1000):\n",
    "    t1 = time.time()\n",
    "    for _ in range(reps):\n",
    "        missing_value_naive(np.random.permutation(range(1, n+1))[:-1])\n",
    "    delta1 = time.time() - t1\n",
    "    \n",
    "    t2 = time.time()\n",
    "    for _ in range(reps):\n",
    "        missing_value_fast(np.random.permutation(range(1, n+1))[:-1])\n",
    "    delta2 = time.time() - t2\n",
    "    \n",
    "    return delta1 / delta2"
   ]
  },
  {
   "cell_type": "markdown",
   "id": "442dd430",
   "metadata": {},
   "source": [
    "When you call `relative_speed` on the default arguments, you should see a speedup of at least 6x on average (though the Gradescope autograder will be slightly more lenient)."
   ]
  },
  {
   "cell_type": "code",
   "execution_count": null,
   "id": "6bd687ab",
   "metadata": {},
   "outputs": [],
   "source": [
    "relative_speed()"
   ]
  },
  {
   "cell_type": "markdown",
   "id": "c019da86",
   "metadata": {},
   "source": [
    "## Finish Line 🏁\n",
    "\n",
    "Congratulations! You're ready to submit the programming portion of Homework 1.\n",
    "\n",
    "To submit your work to Gradescope:\n",
    "\n",
    "1. Select `Kernel -> Restart & Run All` to ensure that you have executed all cells, including the test cells.\n",
    "2. Read through the notebook to make sure everything is fine and all public tests passed.\n",
    "3. Run the cell below to run all tests, and make sure that they all pass.\n",
    "4. Download your notebook using `File -> Download`, then upload your notebook to Gradescope under \"Homework 1, Problem 6 Code\".\n",
    "5. Stick around for a few minutes while the Gradescope autograder grades your work. Make sure you see that all **public tests** have passed on Gradescope. **Remember that homeworks have hidden tests!**"
   ]
  }
 ],
 "metadata": {
  "kernelspec": {
   "display_name": "Python 3 (ipykernel)",
   "language": "python",
   "name": "python3"
  },
  "language_info": {
   "codemirror_mode": {
    "name": "ipython",
    "version": 3
   },
   "file_extension": ".py",
   "mimetype": "text/x-python",
   "name": "python",
   "nbconvert_exporter": "python",
   "pygments_lexer": "ipython3",
   "version": "3.10.18"
  },
  "otter": {
   "tests": {
    "p06_a": {
     "name": "p06_a",
     "points": 2,
     "suites": [
      {
       "cases": [
        {
         "code": ">>> np.isclose(alternating_sign_mean([3, 1.5, 9.9]), 3.8)\nTrue",
         "hidden": false,
         "locked": false
        },
        {
         "code": ">>> np.isclose(alternating_sign_mean([2, 4.5, 3, 7]), -6.5 / 4)\nTrue",
         "hidden": false,
         "locked": false
        }
       ],
       "scored": true,
       "setup": "",
       "teardown": "",
       "type": "doctest"
      }
     ]
    },
    "p06_b": {
     "name": "p06_b",
     "points": 3,
     "suites": [
      {
       "cases": [
        {
         "code": ">>> big_tippers(['angela', 15, 'vincent', 9, 'pranavi', 19]) == ['angela', 'pranavi']\nTrue",
         "hidden": false,
         "locked": false
        }
       ],
       "scored": true,
       "setup": "",
       "teardown": "",
       "type": "doctest"
      }
     ]
    },
    "p06_c": {
     "name": "p06_c",
     "points": 1.5,
     "suites": [
      {
       "cases": [
        {
         "code": ">>> callable(missing_value_naive) and isinstance(missing_value_naive([2, 1, 5, 3]), int)\nTrue",
         "hidden": false,
         "locked": false
        },
        {
         "code": ">>> ex1 = missing_value_naive([2, 1, 5, 3])\n>>> ex2 = missing_value_naive([10, 9, 1, 6, 5, 7, 2, 4, 3])\n>>> ex1 == 4 and ex2 == 8\nTrue",
         "hidden": false,
         "locked": false
        }
       ],
       "scored": true,
       "setup": "",
       "teardown": "",
       "type": "doctest"
      }
     ]
    },
    "p06_d": {
     "name": "p06_d",
     "points": 1.5,
     "suites": [
      {
       "cases": [
        {
         "code": ">>> callable(missing_value_fast) and isinstance(missing_value_fast([2, 1, 5, 3]), int)\nTrue",
         "hidden": false,
         "locked": false
        },
        {
         "code": ">>> ex1 = missing_value_fast([2, 1, 5, 3])\n>>> ex2 = missing_value_fast([10, 9, 1, 6, 5, 7, 2, 4, 3])\n>>> ex1 == 4 and ex2 == 8\nTrue",
         "hidden": false,
         "locked": false
        }
       ],
       "scored": true,
       "setup": "",
       "teardown": "",
       "type": "doctest"
      }
     ]
    }
   }
  }
 },
 "nbformat": 4,
 "nbformat_minor": 5
}
