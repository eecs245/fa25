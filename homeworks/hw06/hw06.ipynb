{
 "cells": [
  {
   "cell_type": "markdown",
   "id": "da63bbbf",
   "metadata": {},
   "source": [
    "<div class=\"alert alert-success\">\n",
    "\n",
    "#### Homework 6 Supplemental Notebook\n",
    "    \n",
    "# Rank and Inverses\n",
    "\n",
    "### EECS 245, Fall 2025 at the University of Michigan\n",
    "    \n",
    "</div>\n",
    "\n",
    "### Instructions\n",
    "\n",
    "Most homeworks will have Jupyter Notebooks, like this one, designed to supplement the theoretical problems. \n",
    "\n",
    "To write and run code in this notebook, you have two options:\n",
    "\n",
    "1. **Use the EECS 245 DataHub.** To do this, click the link provided in the Homework 6 PDF. Before doing so, read the instructions on the [**Tech Support**](https://eecs245.org/tech-support/#option-1-using-the-eecs-245-datahub) page on how to use the DataHub.\n",
    "1. **Set up a Jupyter Notebook environment locally, and use `git` to clone our course repository.** For instructions on how to do this, see the [**Tech Support**](https://eecs245.org/tech-support) page of the course website.\n",
    "\n",
    "**You do not need to submit this notebook to Gradescope.** Instead, you'll be told to screenshot your implementations of various tasks and include them in your Homework 6 PDF."
   ]
  },
  {
   "cell_type": "code",
   "execution_count": null,
   "id": "c1c84a76",
   "metadata": {},
   "outputs": [],
   "source": [
    "# Run this cell.\n",
    "import numpy as np\n",
    "import pandas as pd\n",
    "import time\n",
    "\n",
    "pd.options.plotting.backend = \"plotly\"\n",
    "\n",
    "import plotly.express as px\n",
    "import plotly.io as pio\n",
    "import plotly.figure_factory as ff\n",
    "from plotly.subplots import make_subplots\n",
    "\n",
    "# Set default layout for all plotly figures\n",
    "import plotly.graph_objs as go\n",
    "\n",
    "custom_template = go.layout.Template(pio.templates[\"plotly_white\"])\n",
    "custom_template.layout.plot_bgcolor = \"white\"\n",
    "custom_template.layout.paper_bgcolor = \"white\"\n",
    "custom_template.layout.margin = dict(l=60, r=60, t=60, b=60)\n",
    "custom_template.layout.width = 700\n",
    "custom_template.layout.font = dict(\n",
    "    family=\"Palatino Linotype, Palatino, serif\",\n",
    "    color=\"black\"\n",
    ")\n",
    "\n",
    "pio.templates[\"custom\"] = custom_template\n",
    "pio.templates.default = \"custom\""
   ]
  },
  {
   "cell_type": "markdown",
   "id": "4936dde4",
   "metadata": {},
   "source": [
    "## Problem 7\n",
    "\n",
    "---\n",
    "\n",
    "Recall that the Sherman-Morrison formula says that, for any invertible $n \\times n$ matrix $A$ and vectors $\\vec u, \\vec v \\in \\mathbb{R}^n$,\n",
    "\n",
    "the inverse of\n",
    "\n",
    "$$B = A + \\vec u \\vec v^T$$\n",
    "\n",
    "is\n",
    "\n",
    "$$B^{-1} = (A + \\vec u \\vec v^T)^{-1} = A^{-1} - \\frac{A^{-1} \\vec u \\vec v^T A^{-1}}{1 + \\vec v^T A^{-1} \\vec u}$$\n",
    "\n",
    "Our goal here is to try and quantify how much \"faster\" using the Sherman-Morrison formula is, **once we already have $A^{-1}$**, than inverting $B = A + \\vec u \\vec v^T$ directly is.\n",
    "\n",
    "To help us, we'll use Python's `time` module. See a demonstration of how it works below."
   ]
  },
  {
   "cell_type": "code",
   "execution_count": null,
   "id": "b8c738da",
   "metadata": {},
   "outputs": [],
   "source": [
    "x = time.time()\n",
    "time.sleep(2)\n",
    "y = time.time()\n",
    "y - x"
   ]
  },
  {
   "cell_type": "markdown",
   "id": "c10c05cd",
   "metadata": {},
   "source": [
    "`y - x` is the approximate length of time, in seconds, that the code in between the two calls to `time.time()` took to run.\n",
    "\n",
    "### Problem 7c)\n",
    "\n",
    "**Your Job**: Complete the implementations of the functions \n",
    "- `generate_random_data`\n",
    "- `invert_B_directly`\n",
    "- `invert_B_with_sherman_morrison`\n",
    "- `run_one_experiment`\n",
    "- `many_experiments_mean_sd`\n",
    "\n",
    "according to their descriptions in the provided docstrings.\n",
    "\n",
    "These functions **will not** be autograded. Instead, you'll need to **include screenshots of everything within the** <span style=\"color:orange; font-weight: bold\">orange lines</span> – both code and outputs – in your PDF for Homework 6, under Problem 7c).\n",
    "\n",
    "<hr style=\"border: 0; height: 4px; background: orange;\">"
   ]
  },
  {
   "cell_type": "code",
   "execution_count": null,
   "id": "88d582dc",
   "metadata": {
    "tags": []
   },
   "outputs": [],
   "source": [
    "def generate_random_data(n):\n",
    "    \"\"\"\n",
    "    Returns three objects as a tuple, (A, u, v):\n",
    "        - A, an n by n 2D array whose elements are drawn from a standard normal distribution\n",
    "        - u, an n by 1 2D array whose elements are drawn from a standard normal distribution\n",
    "        - v, an n by 1 2D array whose elements are drawn from a standard normal distribution\n",
    "    \n",
    "    Make sure that u and v are 2D arrays with a single column, **not** 1D arrays.\n",
    "    \"\"\"\n",
    "    A = ...\n",
    "    u = ...\n",
    "    v = ...\n",
    "    return A, u, v\n",
    "\n",
    "# Feel free to change this input to test your implementation.\n",
    "generate_random_data(3)"
   ]
  },
  {
   "cell_type": "code",
   "execution_count": null,
   "id": "67396700",
   "metadata": {
    "tags": []
   },
   "outputs": [],
   "source": [
    "def invert_B_directly(A, u, v):\n",
    "    \"\"\"Returns the inverse of B = A + uv^T, without using the Sherman-Morrison formula.\n",
    "       Assumes np.dot(u, v) != -1.\n",
    "       Hint: Chapter 2.9 includes an example of how to invert a matrix in Python.\n",
    "    \"\"\"\n",
    "    ...\n",
    "    \n",
    "# Feel free to change this input to test your implementation.\n",
    "invert_B_directly(np.eye(3), np.array([[3], [1], [2]]), np.array([[4], [0], [0]]))"
   ]
  },
  {
   "cell_type": "code",
   "execution_count": null,
   "id": "98a78cea",
   "metadata": {
    "tags": []
   },
   "outputs": [],
   "source": [
    "def invert_B_with_sherman_morrison(A_inv, u, v):\n",
    "    \"\"\"Returns the inverse of B = A + uv^T using the Sherman-Morrison formula.\n",
    "       Assumes np.dot(u, v) != 1.\n",
    "    \"\"\"\n",
    "    ...\n",
    "    \n",
    "# Feel free to change this input to test your implementation.\n",
    "invert_B_with_sherman_morrison(np.eye(3), np.array([[3], [1], [2]]), np.array([[4], [0], [0]]))"
   ]
  },
  {
   "cell_type": "code",
   "execution_count": null,
   "id": "e0a02e9f",
   "metadata": {
    "tags": []
   },
   "outputs": [],
   "source": [
    "def run_one_experiment(n):\n",
    "    \"\"\"\n",
    "    run_one_experiment should:\n",
    "        1. Generate a random A, u, and v of shapes n x n, n x 1, and n x 1, respectively.\n",
    "        2. Invert A. (The assumption behind our problem setup is that we have the inverse of A.)\n",
    "        3. Invert B = A + uv^T directly and measure how long it takes to execute, in seconds.\n",
    "        4. Invert B = A + uv^T with Sherman-Morrison and measure how long it takes to execute, in seconds.\n",
    "        5. Return the ratio of the time in step 3 / step 4, i.e.\n",
    "                        time for direct inversion / time for Sherman-Morrison inversion\n",
    "    \"\"\"\n",
    "    A, u, v = generate_random_data(n)\n",
    "    \n",
    "    # The assumption here is that we've already eaten the cost of inverting A,\n",
    "    # so it shouldn't factor into our speed calculations.\n",
    "    A_inv = np.linalg.inv(A)\n",
    "    \n",
    "    ...\n",
    "\n",
    "# Feel free to change this input to test your implementation.\n",
    "run_one_experiment(10)"
   ]
  },
  {
   "cell_type": "code",
   "execution_count": null,
   "id": "358cb615",
   "metadata": {
    "tags": []
   },
   "outputs": [],
   "source": [
    "def many_experiments_mean_sd(n, num_trials=1000):\n",
    "    \"\"\"\n",
    "    Returns the mean and standard deviation of num_trials calls to run_one_experiment(n).\n",
    "    \"\"\"\n",
    "    ...\n",
    "    \n",
    "# Feel free to change these inputs to test your implementation.\n",
    "many_experiments_mean_sd(10, num_trials=100)"
   ]
  },
  {
   "cell_type": "markdown",
   "id": "5ce227a5",
   "metadata": {},
   "source": [
    "Make sure to include screenshots of all of your code and outputs above in your submitted PDF. But, make sure you've only screenshotted what is necessary, i.e. don't include any additional experimentation (which you're free to do).\n",
    "\n",
    "<hr style=\"border: 0; height: 4px; background: orange;\">\n",
    "\n",
    "### Problem 7d)\n",
    "\n",
    "Now that you've implemented the necessary functions, let's experiment how the speedup ratio\n",
    "\n",
    "$$\\frac{\\text{time to invert directly}}{\\text{time to invert with Sherman-Morrison}}$$\n",
    "\n",
    "changes as $n$ increases. If Sherman-Morrison is truly faster in an asymptotic sense, we'd expect to see this ratio increase as $n$ increase (since the denominator would be growing slower than the numerator).\n",
    "\n",
    "**Your Job**: Call `many_experiments_mean_sd` for the values `1`, `2`, ..., `49`, `50`, and then `100`, `200`, `300`, `400`, and `500`.\n",
    "- For each $n$, **print** the mean and SD returned by `many_experiments_mean_sd`.\n",
    "- Then, create a `plotly` line chart with the mean speedup ratio on the $y$-axis and `n` on the $x$-axis.\n",
    "\n",
    "**Include screenshots of everything within the** <span style=\"color:#3d81f6; font-weight: bold\">blue lines</span> – both code and outputs – in your PDF for Homework 6, under Problem 7d).\n",
    "\n",
    "<hr style=\"border: 0; height: 4px; background: #3d81f6;\">"
   ]
  },
  {
   "cell_type": "code",
   "execution_count": null,
   "id": "46bee6be",
   "metadata": {
    "tags": []
   },
   "outputs": [],
   "source": [
    "# Call many_experiments_mean_sd(n) repeatedly and print the means and SDs here.\n",
    "..."
   ]
  },
  {
   "cell_type": "code",
   "execution_count": null,
   "id": "9fb10a3c",
   "metadata": {
    "tags": []
   },
   "outputs": [],
   "source": [
    "# Create your line plot here. Hint: Use px.line.\n",
    "fig = ...\n",
    "# fig.update_layout(xaxis_title='n', yaxis_title='Average Speedup', width=600, height=300)\n",
    "# fig.show(renderer='png', scale=2) # If this doesn't work, try fig.show(renderer='png', scale=3)"
   ]
  },
  {
   "cell_type": "markdown",
   "id": "85515e3e",
   "metadata": {},
   "source": [
    "Make sure your line chart is visible in the print statement!\n",
    "\n",
    "<hr style=\"border: 0; height: 4px; background: #3d81f6;\">"
   ]
  },
  {
   "cell_type": "markdown",
   "id": "311563a5",
   "metadata": {},
   "source": [
    "### Problem 7e)\n",
    "\n",
    "If you did everything correctly, you should have noticed that the average speedup increases roughly linearly as $n$ increases for small-ish $n$, but at some point, the average speedup starts **decreasing**.\n",
    "\n",
    "Ask ChatGPT (or Claude, Gemini, etc.) **why** the ratio increases but then starts decreasing, when theoretically it should keep increasing with $n$. Provide it with the outputs of your print statement and chart. Then, **in your own words**, provide a 1-2 sentence English explanation of the phenomenon you're seeing in the chart.\n",
    "\n",
    "Write your explanation directly in your Homework 6 PDF, under Problem 7e).\n",
    "\n",
    "_Hint: The full answer requires EECS 370 knowledge. If you, like Suraj, aren't super familiar with computer architecture, ask your AI assistant to give you deeper explanations until the main idea clicks._"
   ]
  },
  {
   "cell_type": "markdown",
   "id": "2d61759c",
   "metadata": {},
   "source": [
    "## Finish Line 🏁\n",
    "\n",
    "Remember, this notebook does not need to be submitted to Gradescope! Make sure you've included the necessary screenshots for Problems 7c) and 7d) in your PDF, and that your answer to Problem 7e) is written there as well."
   ]
  }
 ],
 "metadata": {
  "kernelspec": {
   "display_name": "Python 3 (ipykernel)",
   "language": "python",
   "name": "python3"
  },
  "language_info": {
   "codemirror_mode": {
    "name": "ipython",
    "version": 3
   },
   "file_extension": ".py",
   "mimetype": "text/x-python",
   "name": "python",
   "nbconvert_exporter": "python",
   "pygments_lexer": "ipython3",
   "version": "3.10.18"
  }
 },
 "nbformat": 4,
 "nbformat_minor": 5
}
