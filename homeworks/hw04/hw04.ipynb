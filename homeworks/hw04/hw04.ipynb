{
 "cells": [
  {
   "cell_type": "markdown",
   "id": "2323a4c4",
   "metadata": {},
   "source": [
    "<div class=\"alert alert-success\">\n",
    "\n",
    "#### Homework 4 Supplemental Notebook\n",
    "    \n",
    "# Projections, Spans, and Linear Independence\n",
    "\n",
    "### EECS 245, Fall 2025 at the University of Michigan\n",
    "    \n",
    "</div>\n",
    "\n",
    "### Instructions\n",
    "\n",
    "Most homeworks will have Jupyter Notebooks, like this one, designed to supplement the theoretical problems. \n",
    "\n",
    "To write and run code in this notebook, you have two options:\n",
    "\n",
    "1. **Use the EECS 245 DataHub.** To do this, click the link provided in the Homework 4 PDF. Before doing so, read the instructions on the [**Tech Support**](https://eecs245.org/tech-support/#option-1-using-the-eecs-245-datahub) page on how to use the DataHub.\n",
    "1. **Set up a Jupyter Notebook environment locally, and use `git` to clone our course repository.** For instructions on how to do this, see the [**Tech Support**](https://eecs245.org/tech-support) page of the course website.\n",
    "\n",
    "**Unlike in Homeworks 1 and 2, you do not need to submit this notebook to Gradescope.** For Problem 2, we don't need to see your work from your notebook at all. For Problem 5, you're asked to include a screenshot of some work in your submitted PDF."
   ]
  },
  {
   "cell_type": "code",
   "execution_count": null,
   "id": "b88b6aa4",
   "metadata": {},
   "outputs": [],
   "source": [
    "%load_ext autoreload\n",
    "%autoreload 2\n",
    "\n",
    "# Run this cell.\n",
    "import numpy as np\n",
    "import pandas as pd\n",
    "from hw04_util import *"
   ]
  },
  {
   "cell_type": "markdown",
   "id": "de14d02d",
   "metadata": {},
   "source": [
    "## Problem 2: Lines and Planes\n",
    "\n",
    "---\n",
    "\n",
    "There's no code you need to submit here. Instead, use the helper function `draw_equations` to visualize multiple planes and their intersections in $\\mathbb{R}^3$. If the planes ever look \"cut off\" at the edges, that's just because the plotting range is too small; remember that planes extend infinitely.\n",
    "\n",
    "Some examples are given below.\n",
    "\n",
    "To draw $7x - 3y + 4z = 0$:"
   ]
  },
  {
   "cell_type": "code",
   "execution_count": null,
   "id": "48c97bf0",
   "metadata": {},
   "outputs": [],
   "source": [
    "# If the plane doesn't appear, uncomment these two lines:\n",
    "# import plotly.io as pio\n",
    "# pio.renderers.default = \"notebook\"\n",
    "# If that still doesn't work, change \"notebook\" to \"browser\".\n",
    "\n",
    "draw_equations([[7, -3, 4, 0]])"
   ]
  },
  {
   "cell_type": "markdown",
   "id": "85d842a6",
   "metadata": {},
   "source": [
    "To draw $7x - 3y + 4z = 0$ and $x + 2y + 3z - 6 = 0$:"
   ]
  },
  {
   "cell_type": "code",
   "execution_count": null,
   "id": "7c9a5bb5",
   "metadata": {},
   "outputs": [],
   "source": [
    "draw_equations([[7, -3, 4, 0], [1, 2, 3, -6]])"
   ]
  },
  {
   "cell_type": "markdown",
   "id": "168196e5",
   "metadata": {},
   "source": [
    "Their line of intersection is shown above. You can click different labels in the legend to hide/show the corresponding lines/planes.\n",
    "\n",
    "What if we add a third plane to the mix?"
   ]
  },
  {
   "cell_type": "code",
   "execution_count": null,
   "id": "c4245e64",
   "metadata": {},
   "outputs": [],
   "source": [
    "draw_equations([[7, -3, 4, 0], [1, 2, 3, -6], [0, 1, 3, 342]])"
   ]
  },
  {
   "cell_type": "markdown",
   "id": "cbb58760",
   "metadata": {},
   "source": [
    "The three planes above all interesect at a point. But, it's possible to come up with three planes that don't intersect at a point: they could all be parallel, or maybe intersect at a line, or maybe not intersect at all, even if all pairs of planes intersect pairwise. See some examples below; make sure to drag them around."
   ]
  },
  {
   "cell_type": "code",
   "execution_count": null,
   "id": "22cf4a27",
   "metadata": {},
   "outputs": [],
   "source": [
    "draw_equations([\n",
    "    [7, -3, 4, 0],\n",
    "    [1, 2, 3, -6],\n",
    "    [7, -3, 4, 10000]\n",
    "])"
   ]
  },
  {
   "cell_type": "code",
   "execution_count": null,
   "id": "bcc6292e",
   "metadata": {},
   "outputs": [],
   "source": [
    "draw_equations([\n",
    "    [1, 0, 0, 0],\n",
    "    [0, 1, 0, 0],\n",
    "    [1, -1, 0, 0]\n",
    "])"
   ]
  },
  {
   "cell_type": "markdown",
   "id": "90e34922",
   "metadata": {},
   "source": [
    "Use the space below to draw the planes involved in Problem 2. Then, see if you can find an example where **all pairs of planes intersect at a line, but all three planes do not intersect at all**."
   ]
  },
  {
   "cell_type": "code",
   "execution_count": null,
   "id": "5343119d",
   "metadata": {},
   "outputs": [],
   "source": [
    "# draw_equations..."
   ]
  },
  {
   "cell_type": "markdown",
   "id": "23430341",
   "metadata": {},
   "source": [
    "## Problem 5: Rows and Columns\n",
    "\n",
    "---\n",
    "\n",
    "Below, we define the matrix $A$ from the problem statement as a 2D `numpy` array."
   ]
  },
  {
   "cell_type": "code",
   "execution_count": null,
   "id": "66ffe7fe",
   "metadata": {},
   "outputs": [],
   "source": [
    "A = np.array([[5, 3, 5, 2],\n",
    "              [3, 0, -6, 4],\n",
    "              [-2, 0, 4, 3],\n",
    "              [8, 2, -6, -8],\n",
    "              [1, 1, 3, 0]])\n",
    "            \n",
    "A"
   ]
  },
  {
   "cell_type": "markdown",
   "id": "a1bba7ba",
   "metadata": {},
   "source": [
    "As mentioned in the problem, the following value is equal to both the number of linearly independent columns of $A$ and the number of linearly independent rows of $A$."
   ]
  },
  {
   "cell_type": "code",
   "execution_count": null,
   "id": "e2c472a8",
   "metadata": {},
   "outputs": [],
   "source": [
    "np.linalg.matrix_rank(A)"
   ]
  },
  {
   "cell_type": "markdown",
   "id": "409ec8d9",
   "metadata": {},
   "source": [
    "To give you a preview of what's to come, complete <b><span style=\"color: orange;\">the two tasks within the orange lines</span></b> and include screenshots of your completed Tasks 1, 2, and 3 in your Homework 4 PDF, as part of Problem 5c)."
   ]
  },
  {
   "cell_type": "markdown",
   "id": "6406da90",
   "metadata": {},
   "source": [
    "The rows and columns of a 2D array can be accessed like so:"
   ]
  },
  {
   "cell_type": "code",
   "execution_count": null,
   "id": "6b61388b",
   "metadata": {},
   "outputs": [],
   "source": [
    "A"
   ]
  },
  {
   "cell_type": "code",
   "execution_count": null,
   "id": "f291c8c0",
   "metadata": {},
   "outputs": [],
   "source": [
    "# Row 1, column 2 (remember that Python uses 0-indexing)\n",
    "A[0, 1]"
   ]
  },
  {
   "cell_type": "code",
   "execution_count": null,
   "id": "6add01e2",
   "metadata": {},
   "outputs": [],
   "source": [
    "# All of row 2\n",
    "A[1, :]"
   ]
  },
  {
   "cell_type": "code",
   "execution_count": null,
   "id": "e260873e",
   "metadata": {},
   "outputs": [],
   "source": [
    "# All of column 1\n",
    "A[:, 0]"
   ]
  },
  {
   "cell_type": "markdown",
   "id": "b247e1a8",
   "metadata": {},
   "source": [
    "<hr style=\"border: 0; height: 4px; background: orange;\">\n",
    "\n",
    "**Task 1**: Suppose $\\vec v_1, \\vec v_2, \\vec v_3, \\vec v_4$ are the **columns** of $A$ in $\\mathbb{R}^5$. Using the syntax shown above, compute the following linear combination of the columns of $A$:\n",
    "\n",
    "$$3 \\vec v_1 + 2 \\vec v_2 - 4 \\vec v_3 + 5 \\vec v_4$$"
   ]
  },
  {
   "cell_type": "code",
   "execution_count": null,
   "id": "28ebb28c",
   "metadata": {},
   "outputs": [],
   "source": [
    "# YOUR CODE HERE"
   ]
  },
  {
   "cell_type": "markdown",
   "id": "5ca98c05",
   "metadata": {},
   "source": [
    "**Task 2**: Now, suppose $\\vec r_1, \\vec r_2, \\vec r_3, \\vec r_4, \\vec r_5$ are the **rows** of $A$ in $\\mathbb{R}^4$. Using `np.dot`, compute the dot product of every row of $A$ with the vector $\\vec x = \\begin{bmatrix} 3 \\\\ 2 \\\\ -4 \\\\ 5 \\end{bmatrix}$. Do each one manually, each one in its own cell."
   ]
  },
  {
   "cell_type": "code",
   "execution_count": null,
   "id": "1b9c4e18",
   "metadata": {},
   "outputs": [],
   "source": [
    "# YOUR CODE HERE"
   ]
  },
  {
   "cell_type": "markdown",
   "id": "002bd3bd",
   "metadata": {},
   "source": [
    "**Task 3**: Soon, we'll learn how to **multiply** a matrix and a vector. In `numpy`, if `A` and a matrix and `x` is a vector, `A @ x` will compute their product, according to a very specific definition of multiplication.\n",
    "\n",
    "In the cell below, compute the product of $A$ and $\\vec x = \\begin{bmatrix} 3 \\\\ 2 \\\\ -4 \\\\ 5 \\end{bmatrix}$."
   ]
  },
  {
   "cell_type": "code",
   "execution_count": null,
   "id": "f99ffe47",
   "metadata": {},
   "outputs": [],
   "source": [
    "# YOUR CODE HERE"
   ]
  },
  {
   "cell_type": "markdown",
   "id": "3ec4c7cd",
   "metadata": {},
   "source": [
    "What do you notice about the result? Using what you've observed above, complete Problem 5d) back in your PDF. Make sure to include screenshots of your code and its output for the three tasks above for Problem 5c).\n",
    "\n",
    "<hr style=\"border: 0; height: 4px; background: orange;\">"
   ]
  },
  {
   "cell_type": "markdown",
   "id": "46e542e4-aca6-428a-a59e-077148ae4e17",
   "metadata": {},
   "source": [
    "## Finish Line 🏁\n",
    "\n",
    "Remmeber, this notebook does not need to be submitted to Gradescope!"
   ]
  }
 ],
 "metadata": {
  "kernelspec": {
   "display_name": "pds",
   "language": "python",
   "name": "python3"
  },
  "language_info": {
   "codemirror_mode": {
    "name": "ipython",
    "version": 3
   },
   "file_extension": ".py",
   "mimetype": "text/x-python",
   "name": "python",
   "nbconvert_exporter": "python",
   "pygments_lexer": "ipython3",
   "version": "3.10.18"
  }
 },
 "nbformat": 4,
 "nbformat_minor": 5
}
